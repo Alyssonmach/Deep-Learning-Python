{
 "cells": [
  {
   "cell_type": "markdown",
   "metadata": {
    "colab_type": "text",
    "id": "ptuEDN_p-ENn"
   },
   "source": [
    "# Tunnig da Rede Neural\n",
    "#### Realizando um tunning na base de dados de carros usados."
   ]
  },
  {
   "cell_type": "markdown",
   "metadata": {
    "colab_type": "text",
    "id": "nY4kPQR0ZPgk"
   },
   "source": [
    "> O objetivo dessa rede neural é analisar o preço de carros baseados em diversos atributos previsores."
   ]
  },
  {
   "cell_type": "markdown",
   "metadata": {
    "colab_type": "text",
    "id": "W2wLDVXj-OGk"
   },
   "source": [
    "### Importando as Bibliotecas"
   ]
  },
  {
   "cell_type": "code",
   "execution_count": null,
   "metadata": {
    "colab": {
     "base_uri": "https://localhost:8080/",
     "height": 34
    },
    "colab_type": "code",
    "id": "tGBNbNfn-Qbk",
    "outputId": "b9abd1ef-cd50-4f7c-b4ca-761a4a007550"
   },
   "outputs": [
    {
     "name": "stderr",
     "output_type": "stream",
     "text": [
      "Using TensorFlow backend.\n"
     ]
    }
   ],
   "source": [
    "# importando da biblioteca pandas do python\n",
    "import pandas as pd\n",
    "# importando da biblioteca keras do python\n",
    "from keras.models import Sequential\n",
    "from keras.layers import Dense\n",
    "# importando da biblioteca sklearn do python\n",
    "from keras.wrappers.scikit_learn import KerasRegressor\n",
    "from sklearn.model_selection import GridSearchCV\n",
    "from sklearn.preprocessing import LabelEncoder, OneHotEncoder\n",
    "from sklearn.compose import ColumnTransformer"
   ]
  },
  {
   "cell_type": "markdown",
   "metadata": {
    "colab_type": "text",
    "id": "eDDa-mAJ-l20"
   },
   "source": [
    "### Pré-processamento dos Dados"
   ]
  },
  {
   "cell_type": "code",
   "execution_count": null,
   "metadata": {
    "colab": {},
    "colab_type": "code",
    "id": "qeXtdV69-Bmc"
   },
   "outputs": [],
   "source": [
    "# importando os dados para o dataframe\n",
    "dataframe = pd.read_csv('/content/drive/My Drive/autos.csv', \n",
    "                        encoding = 'ISO-8859-1', sep = ',')\n",
    "\n",
    "# removendo colunas não relevantes para a rede neural\n",
    "dataframe = dataframe.drop('dateCrawled', axis = 1)\n",
    "dataframe = dataframe.drop('dateCreated', axis = 1)\n",
    "dataframe = dataframe.drop('nrOfPictures', axis = 1)\n",
    "dataframe = dataframe.drop('postalCode', axis = 1)\n",
    "dataframe = dataframe.drop('lastSeen', axis = 1)\n",
    "dataframe = dataframe.drop('name', axis = 1)\n",
    "dataframe = dataframe.drop('seller', axis = 1)\n",
    "dataframe = dataframe.drop('offerType', axis = 1)\n",
    "\n",
    "# removendo valores inconsistentes\n",
    "dataframe = dataframe.loc[dataframe.price > 10]\n",
    "dataframe = dataframe.loc[dataframe.price < 350000]\n",
    "\n",
    "# criando um dicionário com a moda dos valores para substituir campos nulos\n",
    "valores = {'vehicleType': 'limousine', \n",
    "          'gearbox': 'manuell', \n",
    "          'model': 'golf', \n",
    "          'fuelType': 'benzin', \n",
    "          'notRepairedDamage': 'nein'}\n",
    "# atribuindo a moda dos dados aos campos nulos\n",
    "dataframe = dataframe.fillna(value= valores)\n",
    "\n",
    "# separando os atributos previsores dos atributos meta\n",
    "previsores = dataframe.iloc[:, 1:13].values\n",
    "classe = dataframe.iloc[:, 0].values\n",
    "\n",
    "# criando o objeto 'labelencoder'\n",
    "labelencoder_previsores = LabelEncoder()\n",
    "\n",
    "# transformando atributos categóricos em numéricos\n",
    "previsores[:, 0] = labelencoder_previsores.fit_transform(previsores[:, 0])\n",
    "previsores[:, 1] = labelencoder_previsores.fit_transform(previsores[:, 1])\n",
    "previsores[:, 3] = labelencoder_previsores.fit_transform(previsores[:, 3])\n",
    "previsores[:, 5] = labelencoder_previsores.fit_transform(previsores[:, 5])\n",
    "previsores[:, 8] = labelencoder_previsores.fit_transform(previsores[:, 8])\n",
    "previsores[:, 9] = labelencoder_previsores.fit_transform(previsores[:, 9])\n",
    "previsores[:, 10] = labelencoder_previsores.fit_transform(previsores[:, 10])\n",
    "\n",
    "# transformando atributos numéricos em variáveis do tipo dummy\n",
    "onehotencoder = ColumnTransformer(transformers=[(\"OneHot\", OneHotEncoder(), \n",
    "                                                  [0,1,3,5,8,9,10])], \n",
    "                                  remainder='passthrough')\n",
    "previsores = onehotencoder.fit_transform(previsores).toarray()"
   ]
  },
  {
   "cell_type": "markdown",
   "metadata": {
    "colab_type": "text",
    "id": "_iw0OH4gBj9T"
   },
   "source": [
    "### Criando a Rede Neural"
   ]
  },
  {
   "cell_type": "code",
   "execution_count": null,
   "metadata": {
    "colab": {},
    "colab_type": "code",
    "id": "vWzY5HcZBn0C"
   },
   "outputs": [],
   "source": [
    "# configurando a rede neural\n",
    "def criar_rede(loss):\n",
    "\n",
    "  # criando o objeto regressor\n",
    "  regressor = Sequential()\n",
    "  # adicionando a primeira camada densa\n",
    "  regressor.add(Dense(units = 158, activation = 'relu', \n",
    "                      kernel_initializer = 'random_uniform', \n",
    "                      input_dim = 316))\n",
    "  # adicionando a segunda camada densa\n",
    "  regressor.add(Dense(units = 158, activation = 'relu', \n",
    "                      kernel_initializer = 'random_uniform'))\n",
    "  # adicionando a camada de saída\n",
    "  regressor.add(Dense(units = 1, activation = 'linear'))\n",
    "  # configurando os parâmetros da rede neural\n",
    "  regressor.compile(loss=loss, optimizer='adam', \n",
    "                    metrics=['mean_absolute_error'])\n",
    "  \n",
    "  # função retorna o regressor\n",
    "  return regressor"
   ]
  },
  {
   "cell_type": "code",
   "execution_count": null,
   "metadata": {
    "colab": {},
    "colab_type": "code",
    "id": "KXGWYXfUCCr6"
   },
   "outputs": [],
   "source": [
    "# ajustando a rede neural para o treinamento\n",
    "regressor = KerasRegressor(build_fn = criar_rede, \n",
    "                           epochs = 100, \n",
    "                           batch_size = 300, \n",
    "                           verbose = False)"
   ]
  },
  {
   "cell_type": "code",
   "execution_count": null,
   "metadata": {
    "colab": {},
    "colab_type": "code",
    "id": "04zF9N8ECOyj"
   },
   "outputs": [],
   "source": [
    "# criando um dicionário com os parâmetros de 'loss' a ser testado\n",
    "parametros = {'loss': ['mean_squared_error', 'mean_absolute_error',\n",
    "                       'mean_absolute_percentage_error', \n",
    "                       'mean_squared_logarithmic_error',\n",
    "                       'squared_hinge']}"
   ]
  },
  {
   "cell_type": "code",
   "execution_count": null,
   "metadata": {
    "colab": {},
    "colab_type": "code",
    "id": "m14s_JuuCYAp"
   },
   "outputs": [],
   "source": [
    "# configurando os parâmetros do tunnig\n",
    "grid_search = GridSearchCV(estimator = regressor,\n",
    "                           param_grid = parametros,                           \n",
    "                           cv = 10)"
   ]
  },
  {
   "cell_type": "markdown",
   "metadata": {
    "colab_type": "text",
    "id": "BNvsaKIIDR1c"
   },
   "source": [
    "### Treinando a Rede Neural"
   ]
  },
  {
   "cell_type": "code",
   "execution_count": null,
   "metadata": {
    "colab": {},
    "colab_type": "code",
    "id": "o-s0zbf-Cl6C"
   },
   "outputs": [],
   "source": [
    "# treinando a rede neural com os dados tratados para descobrir quais são os \n",
    "# melhores parâmetros\n",
    "grid_search = grid_search.fit(previsores, classe)"
   ]
  },
  {
   "cell_type": "markdown",
   "metadata": {
    "colab_type": "text",
    "id": "bIyZtCLADWz8"
   },
   "source": [
    "### Observando os Melhores Parâmetros Obtidos"
   ]
  },
  {
   "cell_type": "code",
   "execution_count": null,
   "metadata": {
    "colab": {},
    "colab_type": "code",
    "id": "lSKwkjgDC0AC"
   },
   "outputs": [],
   "source": [
    "# visualizando os melhores parâmetros obtidos\n",
    "melhores_parametros = grid_search.best_params_\n",
    "print(melhores_parametros)"
   ]
  },
  {
   "cell_type": "markdown",
   "metadata": {
    "colab_type": "text",
    "id": "zLeYBEPuC7eK"
   },
   "source": [
    "### Alguma Dúvida? Entre em Contato Comigo:"
   ]
  },
  {
   "cell_type": "markdown",
   "metadata": {
    "colab_type": "text",
    "id": "JMrolnU6C_Ks"
   },
   "source": [
    "- [Me envie um e-mail](mailto:alysson.barbosa@ee.ufcg.edu.br);"
   ]
  }
 ],
 "metadata": {
  "colab": {
   "name": "Untitled15.ipynb",
   "provenance": []
  },
  "kernelspec": {
   "display_name": "Python 3",
   "language": "python",
   "name": "python3"
  },
  "language_info": {
   "codemirror_mode": {
    "name": "ipython",
    "version": 3
   },
   "file_extension": ".py",
   "mimetype": "text/x-python",
   "name": "python",
   "nbconvert_exporter": "python",
   "pygments_lexer": "ipython3",
   "version": "3.7.4"
  }
 },
 "nbformat": 4,
 "nbformat_minor": 4
}
