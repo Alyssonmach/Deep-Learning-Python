{
 "cells": [
  {
   "cell_type": "markdown",
   "metadata": {},
   "source": [
    "# Validação Cruzada\n",
    "#### Realizando a validação cruzada na base de dados de carros usados."
   ]
  },
  {
   "cell_type": "markdown",
   "metadata": {},
   "source": [
    "### Importação das Bibliotecas"
   ]
  },
  {
   "cell_type": "code",
   "execution_count": null,
   "metadata": {},
   "outputs": [],
   "source": [
    "# importando a biblioteca pandas do python\n",
    "import pandas as pd\n",
    "# importando da biblioteca keras do python\n",
    "from keras.models import Sequential\n",
    "from keras.layers import Dense\n",
    "# importando da biblioteca sklearn do python\n",
    "from sklearn.model_selection import cross_val_score\n",
    "from keras.wrappers.scikit_learn import KerasRegressor\n",
    "from sklearn.preprocessing import LabelEncoder, OneHotEncoder"
   ]
  },
  {
   "cell_type": "markdown",
   "metadata": {},
   "source": [
    "### Importando os Dados no Dataframe"
   ]
  },
  {
   "cell_type": "code",
   "execution_count": null,
   "metadata": {},
   "outputs": [],
   "source": [
    "# importando os dados no objeto 'dataframe'\n",
    "dataframe = pd.read_csv('autos.csv', encoding = 'ISO-8859-1',\n",
    "                       sep = ',')"
   ]
  },
  {
   "cell_type": "markdown",
   "metadata": {},
   "source": [
    "### Pré-processamento dos Dados"
   ]
  },
  {
   "cell_type": "code",
   "execution_count": null,
   "metadata": {},
   "outputs": [],
   "source": [
    "# removendo colunas irrelevantes para a rede neural\n",
    "dataframe = dataframe.drop('dateCrawled', axis = 1)\n",
    "dataframe = dataframe.drop('dateCreated', axis = 1)\n",
    "dataframe = dataframe.drop('nrOfPictures', axis = 1)\n",
    "dataframe = dataframe.drop('postalCode', axis = 1)\n",
    "dataframe = dataframe.drop('lastSeen', axis = 1)\n",
    "dataframe = dataframe.drop('name', axis = 1)\n",
    "dataframe = dataframe.drop('seller', axis = 1)\n",
    "dataframe = dataframe.drop('offerType', axis = 1)"
   ]
  },
  {
   "cell_type": "code",
   "execution_count": null,
   "metadata": {},
   "outputs": [],
   "source": [
    "# removendo valores inconsistentes no preço\n",
    "dataframe = dataframe.loc[dataframe.price > 10]\n",
    "dataframe = dataframe.loc[dataframe.price < 350000]"
   ]
  },
  {
   "cell_type": "code",
   "execution_count": null,
   "metadata": {},
   "outputs": [],
   "source": [
    "# criando um dicionário com a moda dos termos para substituir\n",
    "# em campos nulos\n",
    "valores = {'vehicleType': 'limousine', 'gearbox': 'manuell',\n",
    "           'model': 'golf', 'fuelType': 'benzin',\n",
    "           'notRepairedDamage': 'nein'}"
   ]
  },
  {
   "cell_type": "code",
   "execution_count": null,
   "metadata": {},
   "outputs": [],
   "source": [
    "# substituindo os campos nulos \n",
    "dataframe = dataframe.fillna(value = valores)"
   ]
  },
  {
   "cell_type": "code",
   "execution_count": null,
   "metadata": {},
   "outputs": [],
   "source": [
    "# separando os atributos previsores dos atributos classe\n",
    "previsores = dataframe.iloc[:, 1:13].values\n",
    "classe = dataframe.iloc[:, 0].values"
   ]
  },
  {
   "cell_type": "code",
   "execution_count": null,
   "metadata": {},
   "outputs": [],
   "source": [
    "# criando o objeto 'labelencoder'\n",
    "labelencoder_previsores = LabelEncoder()"
   ]
  },
  {
   "cell_type": "code",
   "execution_count": null,
   "metadata": {},
   "outputs": [],
   "source": [
    "# substituindo variáveis categóricas por variáveis numéricas\n",
    "previsores[:, 0] = labelencoder_previsores.fit_transform(previsores[:, 0])\n",
    "previsores[:, 1] = labelencoder_previsores.fit_transform(previsores[:, 1])\n",
    "previsores[:, 3] = labelencoder_previsores.fit_transform(previsores[:, 3])\n",
    "previsores[:, 5] = labelencoder_previsores.fit_transform(previsores[:, 5])\n",
    "previsores[:, 8] = labelencoder_previsores.fit_transform(previsores[:, 8])\n",
    "previsores[:, 9] = labelencoder_previsores.fit_transform(previsores[:, 9])\n",
    "previsores[:, 10] = labelencoder_previsores.fit_transform(previsores[:, 10])"
   ]
  },
  {
   "cell_type": "code",
   "execution_count": null,
   "metadata": {},
   "outputs": [],
   "source": [
    "# transformando as variáveis numéricas em variáveis do tipo\n",
    "# dummy\n",
    "onehotencoder = OneHotEncoder(categorical_features = [0,1,3,5,8,9,10])\n",
    "previsores = onehotencoder.fit_transform(previsores).toarray()"
   ]
  },
  {
   "cell_type": "code",
   "execution_count": null,
   "metadata": {},
   "outputs": [],
   "source": [
    "# criando as configurações da rede neural\n",
    "def criar_rede():\n",
    "    \n",
    "    # criando o regressor\n",
    "    regressor = Sequential()\n",
    "    # adicionando a primeira camada oculta\n",
    "    regressor.add(Dense(units = 158, \n",
    "                        activation = 'relu', \n",
    "                        input_dim = 316))\n",
    "    # adicionando a segunda camada oculta\n",
    "    regressor.add(Dense(units = 158, \n",
    "                        activation = 'relu'))\n",
    "    # adicionando a camada de saída\n",
    "    regressor.add(Dense(units = 1, \n",
    "                        activation = 'linear'))\n",
    "    # configurando os parâmetros da rede\n",
    "    regressor.compile(loss = 'mean_absolute_error', \n",
    "                      optimizer = 'adam',\n",
    "                      metrics = ['mean_absolute_error'])\n",
    "    \n",
    "    # função retorna o regressor\n",
    "    return regressor"
   ]
  },
  {
   "cell_type": "code",
   "execution_count": null,
   "metadata": {},
   "outputs": [],
   "source": [
    "# ajustando a rede neural para o treinamento\n",
    "regressor = KerasRegressor(build_fn = criar_rede,\n",
    "                           epochs = 100,\n",
    "                           batch_size = 300)"
   ]
  },
  {
   "cell_type": "code",
   "execution_count": null,
   "metadata": {},
   "outputs": [],
   "source": [
    "# realizando a validação cruzada com os dados tratados\n",
    "resultados = cross_val_score(estimator = regressor,\n",
    "                             X = previsores, y = classe,\n",
    "                             cv = 10, \n",
    "                             scoring = 'mean_absolute_error')"
   ]
  },
  {
   "cell_type": "code",
   "execution_count": null,
   "metadata": {},
   "outputs": [],
   "source": [
    "# visualizando os resultados obtidos\n",
    "print(resultados)"
   ]
  },
  {
   "cell_type": "code",
   "execution_count": null,
   "metadata": {},
   "outputs": [],
   "source": [
    "# visualizando a média dos resultados\n",
    "media = resultados.mean()\n",
    "print(media)"
   ]
  },
  {
   "cell_type": "code",
   "execution_count": null,
   "metadata": {},
   "outputs": [],
   "source": [
    "# visualizando o desvio padrão dos dados\n",
    "desvio = resultados.std()\n",
    "print(desvio)"
   ]
  },
  {
   "cell_type": "markdown",
   "metadata": {},
   "source": [
    "### Alguma Dúvida? Entre em Contato Comigo:"
   ]
  },
  {
   "cell_type": "markdown",
   "metadata": {},
   "source": [
    "- [Me envie um e-mail](mailto:alysson.barbosa@ee.ufcg.edu.br);"
   ]
  }
 ],
 "metadata": {
  "kernelspec": {
   "display_name": "Python 3",
   "language": "python",
   "name": "python3"
  },
  "language_info": {
   "codemirror_mode": {
    "name": "ipython",
    "version": 3
   },
   "file_extension": ".py",
   "mimetype": "text/x-python",
   "name": "python",
   "nbconvert_exporter": "python",
   "pygments_lexer": "ipython3",
   "version": "3.7.4"
  }
 },
 "nbformat": 4,
 "nbformat_minor": 4
}
