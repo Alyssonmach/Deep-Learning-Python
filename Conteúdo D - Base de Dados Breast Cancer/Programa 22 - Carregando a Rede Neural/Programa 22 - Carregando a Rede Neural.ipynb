{
 "cells": [
  {
   "cell_type": "markdown",
   "metadata": {
    "colab_type": "text",
    "id": "TpaZwauV51UB"
   },
   "source": [
    "# Carregando a Rede Neural\n",
    "#### Carregando uma rede neural já salva."
   ]
  },
  {
   "cell_type": "markdown",
   "metadata": {
    "colab_type": "text",
    "id": "fzH6K2HZ5-WZ"
   },
   "source": [
    "### Importando as bibliotecas "
   ]
  },
  {
   "cell_type": "code",
   "execution_count": 2,
   "metadata": {
    "colab": {},
    "colab_type": "code",
    "id": "Xaulq84S6CF4"
   },
   "outputs": [],
   "source": [
    "# importando as bibliotecas do python\n",
    "\n",
    "import numpy as np\n",
    "import pandas as pd\n",
    "from keras.models import model_from_json"
   ]
  },
  {
   "cell_type": "markdown",
   "metadata": {
    "colab_type": "text",
    "id": "5zFKvVDM6RHO"
   },
   "source": [
    "### Carregando os Classificadores Salvos"
   ]
  },
  {
   "cell_type": "code",
   "execution_count": 3,
   "metadata": {
    "colab": {},
    "colab_type": "code",
    "id": "r269IERd6Pkm"
   },
   "outputs": [],
   "source": [
    "# carregando o arquivo com as configurações da rede neural\n",
    "arquivo = open('classificador_breast_json', 'r')\n",
    "\n",
    "# carregando os parâmetros da rede neural\n",
    "estrutura_rede = arquivo.read()\n",
    "\n",
    "# fechando o arquivo para não ocupar muito espaço na memória\n",
    "arquivo.close()"
   ]
  },
  {
   "cell_type": "code",
   "execution_count": 4,
   "metadata": {
    "colab": {},
    "colab_type": "code",
    "id": "F44gcTeJ63b4"
   },
   "outputs": [],
   "source": [
    "# carregando o classificador\n",
    "classificador = model_from_json(estrutura_rede)\n",
    "\n",
    "# carregando os pesos da rede neural\n",
    "classificador.load_weights('classificador_breast.h5')"
   ]
  },
  {
   "cell_type": "markdown",
   "metadata": {
    "colab_type": "text",
    "id": "aSJSAmUO7Khv"
   },
   "source": [
    "### Testando a Rede Neural Carregada"
   ]
  },
  {
   "cell_type": "code",
   "execution_count": 5,
   "metadata": {
    "colab": {},
    "colab_type": "code",
    "id": "Lh8VhO207JKO"
   },
   "outputs": [],
   "source": [
    "# criando um novo registro\n",
    "novo = np.array([[15.80, 8.34, 118, 900, 0.10, 0.26, 0.08, 0.134, 0.178,\n",
    "                  0.20, 0.05, 1098, 0.87, 4500, 145.2, 0.005, 0.04, 0.05, 0.015,\n",
    "                  0.03, 0.007, 23.15, 16.64, 178.5, 2018, 0.14, 0.185,\n",
    "                  0.84, 158, 0.363]])"
   ]
  },
  {
   "cell_type": "code",
   "execution_count": 6,
   "metadata": {
    "colab": {
     "base_uri": "https://localhost:8080/",
     "height": 53
    },
    "colab_type": "code",
    "id": "oMZkEPge7ZZ4",
    "outputId": "cf19c24b-cbb4-4154-a25d-2a080694762d"
   },
   "outputs": [
    {
     "name": "stdout",
     "output_type": "stream",
     "text": [
      "[[1.]]\n",
      "[[ True]]\n"
     ]
    }
   ],
   "source": [
    "# realizando a predição como o novo registro\n",
    "previsao = classificador.predict(novo)\n",
    "\n",
    "# visualizando a previsão feita com o novo registro\n",
    "print(previsao)\n",
    "\n",
    "# definindo um limiar de confiabilidade na previsão feita\n",
    "print(previsao > 0.5)"
   ]
  },
  {
   "cell_type": "markdown",
   "metadata": {
    "colab_type": "text",
    "id": "az0Og8JR7vZj"
   },
   "source": [
    "Observe que os resultados obtidos foram os mesmos que foram testados em arquivos anteriores."
   ]
  },
  {
   "cell_type": "code",
   "execution_count": 7,
   "metadata": {
    "colab": {},
    "colab_type": "code",
    "id": "JTzB948l73lg"
   },
   "outputs": [],
   "source": [
    "# carregando os atributos previsores e meta da base de dados\n",
    "previsores = pd.read_csv('entradas_breast.csv', \n",
    "                         encoding = 'utf-8', sep  = ',')\n",
    "classe = pd.read_csv('saidas_breast.csv', \n",
    "                     encoding = 'utf-8', sep  = ',')"
   ]
  },
  {
   "cell_type": "code",
   "execution_count": 8,
   "metadata": {
    "colab": {},
    "colab_type": "code",
    "id": "O6YxA5Ho8MNS"
   },
   "outputs": [],
   "source": [
    "# carregando os parâmetros de melhoramento dos ajustes dos \n",
    "# pesos (os mesmos que foram utilizados no treinamento)\n",
    "classificador.compile(optimizer = 'adam', loss = 'binary_crossentropy', \n",
    "                      metrics = ['binary_accuracy'])"
   ]
  },
  {
   "cell_type": "code",
   "execution_count": 9,
   "metadata": {
    "colab": {
     "base_uri": "https://localhost:8080/",
     "height": 53
    },
    "colab_type": "code",
    "id": "qnwi2O0-8qa5",
    "outputId": "eb2a2d48-55b8-4b9b-ee89-ddbde2cf2564"
   },
   "outputs": [
    {
     "name": "stdout",
     "output_type": "stream",
     "text": [
      "569/569 [==============================] - 0s 213us/step\n"
     ]
    },
    {
     "data": {
      "text/plain": [
       "[0.4349950870436818, 0.8910369277000427]"
      ]
     },
     "execution_count": 9,
     "metadata": {
      "tags": []
     },
     "output_type": "execute_result"
    }
   ],
   "source": [
    "# obtendo a acurácia da rede e a perda\n",
    "classificador.evaluate(previsores, classe)"
   ]
  },
  {
   "cell_type": "markdown",
   "metadata": {
    "colab_type": "text",
    "id": "AQBSkDKI8yTR"
   },
   "source": [
    "Observe que o desempenho da rede neural foi análogo ao que foi obtido durante o treinamento. Desse modo, provamos que o carregamento de classificador é eficaz e proveitoso."
   ]
  },
  {
   "cell_type": "markdown",
   "metadata": {
    "colab_type": "text",
    "id": "-SJaT0Nw88I_"
   },
   "source": [
    "### Alguma Dúvida? Entre em Contato Comigo:"
   ]
  },
  {
   "cell_type": "markdown",
   "metadata": {
    "colab_type": "text",
    "id": "5Ym2QPYV8_0m"
   },
   "source": [
    "- [Me envie um e-mail](mailto:alysson.barbosa@ee.ufcg.edu.br);"
   ]
  }
 ],
 "metadata": {
  "colab": {
   "collapsed_sections": [],
   "name": "Untitled12.ipynb",
   "provenance": []
  },
  "kernelspec": {
   "display_name": "Python 3",
   "language": "python",
   "name": "python3"
  },
  "language_info": {
   "codemirror_mode": {
    "name": "ipython",
    "version": 3
   },
   "file_extension": ".py",
   "mimetype": "text/x-python",
   "name": "python",
   "nbconvert_exporter": "python",
   "pygments_lexer": "ipython3",
   "version": "3.7.4"
  }
 },
 "nbformat": 4,
 "nbformat_minor": 4
}
