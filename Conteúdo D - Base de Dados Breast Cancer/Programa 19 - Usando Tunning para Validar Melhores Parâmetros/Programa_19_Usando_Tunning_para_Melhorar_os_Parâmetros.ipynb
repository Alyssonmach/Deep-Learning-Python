{
  "nbformat": 4,
  "nbformat_minor": 0,
  "metadata": {
    "colab": {
      "name": "Programa 19 - Usando Tunning para Melhorar os Parâmetros.ipynb",
      "provenance": [],
      "collapsed_sections": [],
      "toc_visible": true
    },
    "kernelspec": {
      "display_name": "Python 3",
      "language": "python",
      "name": "python3"
    },
    "language_info": {
      "codemirror_mode": {
        "name": "ipython",
        "version": 3
      },
      "file_extension": ".py",
      "mimetype": "text/x-python",
      "name": "python",
      "nbconvert_exporter": "python",
      "pygments_lexer": "ipython3",
      "version": "3.7.4"
    }
  },
  "cells": [
    {
      "cell_type": "markdown",
      "metadata": {
        "colab_type": "text",
        "id": "N_hiTRMQr2F6"
      },
      "source": [
        "# Usando Tunnig parar Ajustar os Parâmetros\n",
        "#### Aplicando tunning na rede neural artificial para verificar quais são os melhores parâmetros que se adaptam aos dados do Breast Cancer."
      ]
    },
    {
      "cell_type": "markdown",
      "metadata": {
        "colab_type": "text",
        "id": "gEI0LMNO2TID"
      },
      "source": [
        "Tunning consiste de uma estratégia para achar os melhores parâmetros responsáveis por garantir que a rede neural se adapte bem aos dados disponíveis. Ele simplesmente testa diversos parâmetros e indica quais são os ideias. Entretanto, o tempo de execução é extremamente grande, sendo uma estratégia a ser usada com sabedoria."
      ]
    },
    {
      "cell_type": "markdown",
      "metadata": {
        "colab_type": "text",
        "id": "oUZNqvFQs3rv"
      },
      "source": [
        "### Importando as Bibliotecas Necessárias "
      ]
    },
    {
      "cell_type": "code",
      "metadata": {
        "colab_type": "code",
        "id": "Z2hqU49yr0GE",
        "colab": {
          "base_uri": "https://localhost:8080/",
          "height": 34
        },
        "outputId": "1b659cff-2eac-41fe-9a0f-c819fc5befd8"
      },
      "source": [
        "# importando as bibliotecas do python necessárias para construção e análise da rede neural\n",
        "\n",
        "import pandas as pd\n",
        "import numpy as np\n",
        "import keras\n",
        "from keras.models import Sequential\n",
        "from keras.layers import Dense, Dropout\n",
        "from keras.wrappers.scikit_learn import KerasClassifier\n",
        "from sklearn.model_selection import cross_val_score\n",
        "from sklearn.model_selection import GridSearchCV"
      ],
      "execution_count": 2,
      "outputs": [
        {
          "output_type": "stream",
          "text": [
            "Using TensorFlow backend.\n"
          ],
          "name": "stderr"
        }
      ]
    },
    {
      "cell_type": "markdown",
      "metadata": {
        "colab_type": "text",
        "id": "3z_Uw4oJtE9O"
      },
      "source": [
        "### Separando os Atributos Previsores e Meta"
      ]
    },
    {
      "cell_type": "code",
      "metadata": {
        "colab_type": "code",
        "id": "uVXDWUW-s1lG",
        "colab": {}
      },
      "source": [
        "# separando os atributos previsores e meta do dataframe\n",
        "previsores = pd.read_csv('/content/drive/My Drive/entradas_breast.csv', encoding = 'utf-8', sep = ',')\n",
        "classe = pd.read_csv('/content/drive/My Drive/saidas_breast.csv', encoding = 'utf-8', sep = ',')"
      ],
      "execution_count": 4,
      "outputs": []
    },
    {
      "cell_type": "markdown",
      "metadata": {
        "colab_type": "text",
        "id": "ObSDKEilv04G"
      },
      "source": [
        "### Configurando a Rede Neural"
      ]
    },
    {
      "cell_type": "code",
      "metadata": {
        "colab_type": "code",
        "id": "std6cEgVtuMI",
        "colab": {}
      },
      "source": [
        "# criando a rede neural artificial\n",
        "def neural_network_config(optimizer, loss, kernel_initializer, activation, neurons):\n",
        "\n",
        "  # criando o objeto 'classificador'\n",
        "  classificador = Sequential()\n",
        "  # adicionando a primeira rede oculta\n",
        "  classificador.add(Dense(units = neurons, activation = activation, \n",
        "                          kernel_initializer = kernel_initializer, input_dim = 30))\n",
        "  # configurando um dropout de 20% nos neurônios que passam da primeira para a segunda camada oculta\n",
        "  classificador.add(Dropout(0.2))\n",
        "  # adicionando uma segunda rede oculta\n",
        "  classificador.add(Dense(units = neurons, activation = activation, \n",
        "                          kernel_initializer = kernel_initializer))\n",
        "  # configurando um dropout de 20% nos neurônios que passam da segunda camada oculta para a camada de saída\n",
        "  classificador.add(Dropout(0.2))\n",
        "  # adicionando uma rede de saída\n",
        "  classificador.add(Dense(units = 1, activation = 'sigmoid'))\n",
        "  # ajustando mais parâmetros da rede neural artificial\n",
        "  classificador.compile(optimizer = optimizer, loss = loss, metrics = ['binary_accuracy'])\n",
        "\n",
        "  # função retorna o classificador configurado\n",
        "  return classificador"
      ],
      "execution_count": 5,
      "outputs": []
    },
    {
      "cell_type": "code",
      "metadata": {
        "colab_type": "code",
        "id": "N68IEAJXvzE-",
        "colab": {}
      },
      "source": [
        "# configurando os parâmetros finais de treinamento da rede neural\n",
        "classificador = KerasClassifier(build_fn = neural_network_config, verbose = False)"
      ],
      "execution_count": 6,
      "outputs": []
    },
    {
      "cell_type": "code",
      "metadata": {
        "colab_type": "code",
        "id": "-73yicRl-Ynn",
        "colab": {}
      },
      "source": [
        "# criando um dicionário com alguns parâmetros a serem testados pelo tunning\n",
        "parametros = {'batch_size': [10, 30],\n",
        "              'epochs': [50, 100],\n",
        "              'optimizer': ['adam', 'sgd'],\n",
        "              'loss': ['binary_crossentropy', 'hinge'],\n",
        "              'kernel_initializer': ['random_uniform', 'normal'],\n",
        "              'activation': ['relu', 'tanh'],\n",
        "              'neurons': [16, 8]}"
      ],
      "execution_count": 7,
      "outputs": []
    },
    {
      "cell_type": "markdown",
      "metadata": {
        "colab_type": "text",
        "id": "3fgZAFos_bZP"
      },
      "source": [
        "### Realizando o Tunning"
      ]
    },
    {
      "cell_type": "code",
      "metadata": {
        "colab_type": "code",
        "id": "Z3yruH8-_eFa",
        "colab": {}
      },
      "source": [
        "# realizando um teste com os parâmetros usando tunning\n",
        "grid_search = GridSearchCV(estimator = classificador, param_grid = parametros, scoring = 'accuracy', cv = 5)"
      ],
      "execution_count": 8,
      "outputs": []
    },
    {
      "cell_type": "code",
      "metadata": {
        "id": "JmyUSe5XyH4p",
        "colab_type": "code",
        "colab": {}
      },
      "source": [
        "# realizando o treinamento para obter os melhores parâmetros\n",
        "grid_search = grid_search.fit(previsores, classe)"
      ],
      "execution_count": 9,
      "outputs": []
    },
    {
      "cell_type": "code",
      "metadata": {
        "colab_type": "code",
        "id": "afTGTowrAKlj",
        "colab": {}
      },
      "source": [
        "# observandos os melhores parâmetros obtidos\n",
        "melhores_parametros = grid_search.best_params_"
      ],
      "execution_count": 11,
      "outputs": []
    },
    {
      "cell_type": "code",
      "metadata": {
        "colab_type": "code",
        "id": "nceeXnU5AUdm",
        "colab": {}
      },
      "source": [
        "# observando as melhores precisões obtidas com os parâmetros acima\n",
        "melhores_precisao = grid_search.best_score_"
      ],
      "execution_count": 13,
      "outputs": []
    },
    {
      "cell_type": "code",
      "metadata": {
        "id": "5PJaf6zw7pHo",
        "colab_type": "code",
        "colab": {
          "base_uri": "https://localhost:8080/",
          "height": 54
        },
        "outputId": "87fb4342-e691-4303-d354-e9d2d9c1b032"
      },
      "source": [
        "# visualizando os melhores parâmetros obtidos pelo tunning\n",
        "print(melhores_parametros)"
      ],
      "execution_count": 14,
      "outputs": [
        {
          "output_type": "stream",
          "text": [
            "{'activation': 'relu', 'batch_size': 10, 'epochs': 50, 'kernel_initializer': 'normal', 'loss': 'binary_crossentropy', 'neurons': 16, 'optimizer': 'adam'}\n"
          ],
          "name": "stdout"
        }
      ]
    },
    {
      "cell_type": "code",
      "metadata": {
        "id": "4t1-EqLI7uvG",
        "colab_type": "code",
        "colab": {
          "base_uri": "https://localhost:8080/",
          "height": 34
        },
        "outputId": "9f13fa7c-d63a-42a3-f2ee-9da2b46b03e3"
      },
      "source": [
        "# visualizando a melhor precisão obtida com os parâmetros acima\n",
        "print(melhores_precisao)"
      ],
      "execution_count": 15,
      "outputs": [
        {
          "output_type": "stream",
          "text": [
            "0.9068933395435492\n"
          ],
          "name": "stdout"
        }
      ]
    },
    {
      "cell_type": "markdown",
      "metadata": {
        "colab_type": "text",
        "id": "EJ0YstvCy88S"
      },
      "source": [
        "### Alguma Dúvida? Entre em Contato Comigo:"
      ]
    },
    {
      "cell_type": "markdown",
      "metadata": {
        "colab_type": "text",
        "id": "_JDLySU8zBS3"
      },
      "source": [
        "- [Me envie um e-mail](mailto:alysson.barbosa@ee.ufcg.edu.br);"
      ]
    }
  ]
}