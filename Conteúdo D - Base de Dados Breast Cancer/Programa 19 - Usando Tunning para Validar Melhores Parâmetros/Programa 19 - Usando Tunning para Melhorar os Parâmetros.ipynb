{
 "cells": [
  {
   "cell_type": "markdown",
   "metadata": {
    "colab_type": "text",
    "id": "N_hiTRMQr2F6"
   },
   "source": [
    "# Usando Tunnig parar Ajustar os Parâmetros\n",
    "#### Aplicando tunning na rede neural artificial para verificar quais são os melhores parâmetros que se adaptam aos dados do Breast Cancer."
   ]
  },
  {
   "cell_type": "markdown",
   "metadata": {
    "colab_type": "text",
    "id": "gEI0LMNO2TID"
   },
   "source": [
    "Tunning consiste de uma estratégia para achar os melhores parâmetros responsáveis por garantir que a rede neural se adapte bem aos dados disponíveis. Ele simplesmente testa diversos parâmetros e indica quais são os ideias. Entretanto, o tempo de execução é extremamente grande, sendo uma estratégia a ser usada com sabedoria."
   ]
  },
  {
   "cell_type": "markdown",
   "metadata": {
    "colab_type": "text",
    "id": "oUZNqvFQs3rv"
   },
   "source": [
    "### Importando as Bibliotecas Necessárias "
   ]
  },
  {
   "cell_type": "code",
   "execution_count": null,
   "metadata": {
    "colab": {
     "base_uri": "https://localhost:8080/",
     "height": 35
    },
    "colab_type": "code",
    "id": "Z2hqU49yr0GE",
    "outputId": "7a067d3c-6afb-4400-93c5-4f0ef1f2404b"
   },
   "outputs": [
    {
     "name": "stderr",
     "output_type": "stream",
     "text": [
      "Using TensorFlow backend.\n"
     ]
    }
   ],
   "source": [
    "# importando as bibliotecas do python necessárias para construção e análise da rede neural\n",
    "\n",
    "import pandas as pd\n",
    "import numpy as np\n",
    "import keras\n",
    "from keras.models import Sequential\n",
    "from keras.layers import Dense, Dropout\n",
    "from keras.wrappers.scikit_learn import KerasClassifier\n",
    "from sklearn.model_selection import cross_val_score\n",
    "from sklearn.model_selection import GridSearchCV"
   ]
  },
  {
   "cell_type": "markdown",
   "metadata": {
    "colab_type": "text",
    "id": "3z_Uw4oJtE9O"
   },
   "source": [
    "### Separando os Atributos Previsores e Meta"
   ]
  },
  {
   "cell_type": "code",
   "execution_count": null,
   "metadata": {
    "colab": {},
    "colab_type": "code",
    "id": "uVXDWUW-s1lG"
   },
   "outputs": [],
   "source": [
    "# separando os atributos previsores e meta do dataframe\n",
    "previsores = pd.read_csv('entradas_breast.csv', encoding = 'utf-8', sep = ',')\n",
    "classe = pd.read_csv('saidas_breast.csv', encoding = 'utf-8', sep = ',')"
   ]
  },
  {
   "cell_type": "markdown",
   "metadata": {
    "colab_type": "text",
    "id": "ObSDKEilv04G"
   },
   "source": [
    "### Configurando a Rede Neural"
   ]
  },
  {
   "cell_type": "code",
   "execution_count": null,
   "metadata": {
    "colab": {},
    "colab_type": "code",
    "id": "std6cEgVtuMI"
   },
   "outputs": [],
   "source": [
    "# criando a rede neural artificial\n",
    "def neural_network_config(optimizer, loss, kernel_initializer, activation, neurons):\n",
    "\n",
    "  # criando o objeto 'classificador'\n",
    "  classificador = Sequential()\n",
    "  # adicionando a primeira rede oculta\n",
    "  classificador.add(Dense(units = neurons, activation = activation, \n",
    "                          kernel_initializer = kernel_initializer, input_dim = 30))\n",
    "  # configurando um dropout de 20% nos neurônios que passam da primeira para a segunda camada oculta\n",
    "  classificador.add(Dropout(0.2))\n",
    "  # adicionando uma segunda rede oculta\n",
    "  classificador.add(Dense(units = neurons, activation = activation, \n",
    "                          kernel_initializer = kernel_initializer))\n",
    "  # configurando um dropout de 20% nos neurônios que passam da segunda camada oculta para a camada de saída\n",
    "  classificador.add(Dropout(0.2))\n",
    "  # adicionando uma rede de saída\n",
    "  classificador.add(Dense(units = 1, activation = 'sigmoid'))\n",
    "  # ajustando mais parâmetros da rede neural artificial\n",
    "  classificador.compile(optimizer = optimizer, loss = loss, metrics = ['binary_accuracy'])\n",
    "\n",
    "  # função retorna o classificador configurado\n",
    "  return classificador"
   ]
  },
  {
   "cell_type": "code",
   "execution_count": null,
   "metadata": {
    "colab": {},
    "colab_type": "code",
    "id": "N68IEAJXvzE-"
   },
   "outputs": [],
   "source": [
    "# configurando os parâmetros finais de treinamento da rede neural\n",
    "classificador = KerasClassifier(build_fn = neural_network_config)"
   ]
  },
  {
   "cell_type": "code",
   "execution_count": null,
   "metadata": {
    "colab": {},
    "colab_type": "code",
    "id": "-73yicRl-Ynn"
   },
   "outputs": [],
   "source": [
    "# criando um dicionário com alguns parâmetros a serem testados pelo tunning\n",
    "parametros = {'batch_size': [10, 30],\n",
    "              'epochs': [50, 100],\n",
    "              'optimizer': ['adam', 'sgd'],\n",
    "              'loss': ['binary_crossentropy', 'hinge'],\n",
    "              'kernel_initializer': ['random_uniform', 'normal'],\n",
    "              'activation': ['relu', 'tanh'],\n",
    "              'neurons': [16, 8]}"
   ]
  },
  {
   "cell_type": "markdown",
   "metadata": {
    "colab_type": "text",
    "id": "3fgZAFos_bZP"
   },
   "source": [
    "### Realizando o Tunning"
   ]
  },
  {
   "cell_type": "code",
   "execution_count": null,
   "metadata": {
    "colab": {},
    "colab_type": "code",
    "id": "Z3yruH8-_eFa"
   },
   "outputs": [],
   "source": [
    "# realizando um teste com os parâmetros usando tunning\n",
    "grid_search = GridSearchCV(estimator = classificador, param_grid = parametros, scoring = 'accuracy', cv = 5)"
   ]
  },
  {
   "cell_type": "code",
   "execution_count": null,
   "metadata": {},
   "outputs": [],
   "source": [
    "# realizando o treinamento para obter os melhores parâmetros\n",
    "grid_search = grid_search.fit(previsores, classe)"
   ]
  },
  {
   "cell_type": "code",
   "execution_count": null,
   "metadata": {
    "colab": {},
    "colab_type": "code",
    "id": "afTGTowrAKlj"
   },
   "outputs": [],
   "source": [
    "# observandos os melhores parâmetros obtidos\n",
    "melhores_parametros = grid_search.best_params"
   ]
  },
  {
   "cell_type": "code",
   "execution_count": null,
   "metadata": {
    "colab": {},
    "colab_type": "code",
    "id": "nceeXnU5AUdm"
   },
   "outputs": [],
   "source": [
    "# observando as melhores precisões obtidas com os parâmetros acima\n",
    "melhores_precisao = grid_search.best_score"
   ]
  },
  {
   "cell_type": "markdown",
   "metadata": {},
   "source": [
    "> OBS: não será mostrado as saídas devid ao grande consumo de recursos para treinar essa rede neural, mas o código cumpre com o seu objetivo."
   ]
  },
  {
   "cell_type": "markdown",
   "metadata": {
    "colab_type": "text",
    "id": "EJ0YstvCy88S"
   },
   "source": [
    "### Alguma Dúvida? Entre em Contato Comigo:"
   ]
  },
  {
   "cell_type": "markdown",
   "metadata": {
    "colab_type": "text",
    "id": "_JDLySU8zBS3"
   },
   "source": [
    "- [Me envie um e-mail](mailto:alysson.barbosa@ee.ufcg.edu.br);"
   ]
  }
 ],
 "metadata": {
  "colab": {
   "collapsed_sections": [],
   "name": "Programa 19 - Validação Cruzada Com os Dados Breast Cancer (Dropout).ipynb",
   "provenance": []
  },
  "kernelspec": {
   "display_name": "Python 3",
   "language": "python",
   "name": "python3"
  },
  "language_info": {
   "codemirror_mode": {
    "name": "ipython",
    "version": 3
   },
   "file_extension": ".py",
   "mimetype": "text/x-python",
   "name": "python",
   "nbconvert_exporter": "python",
   "pygments_lexer": "ipython3",
   "version": "3.7.4"
  }
 },
 "nbformat": 4,
 "nbformat_minor": 4
}
