{
 "cells": [
  {
   "cell_type": "markdown",
   "metadata": {
    "colab_type": "text",
    "id": "rZu5R0nXrqXG"
   },
   "source": [
    "# Classificando Novos Registros\n",
    "#### Criando uma entrada de um novo registro para realizar a classificação usando o algoritmo treinado com os dados Breast Cancer."
   ]
  },
  {
   "cell_type": "markdown",
   "metadata": {
    "colab_type": "text",
    "id": "5dY9S8cjr5Tl"
   },
   "source": [
    "No arquivo anterior, foi realizado um teste usando tunning para validar os melhores parâmetros da rede neural. Após obter esses dados, vamos usá-lo e criar uma nova entrada para avaliar a capacidade do algoritmo de realizar previsões."
   ]
  },
  {
   "cell_type": "markdown",
   "metadata": {
    "colab_type": "text",
    "id": "HjAHBEFXsgmr"
   },
   "source": [
    "### Importando as bibliotecas."
   ]
  },
  {
   "cell_type": "code",
   "execution_count": 1,
   "metadata": {
    "colab": {
     "base_uri": "https://localhost:8080/",
     "height": 35
    },
    "colab_type": "code",
    "id": "i5AIGi1VsOLq",
    "outputId": "eac210c9-4367-4484-d997-2a36a91d2254"
   },
   "outputs": [
    {
     "name": "stderr",
     "output_type": "stream",
     "text": [
      "Using TensorFlow backend.\n"
     ]
    }
   ],
   "source": [
    "# importando as bibliotecas necessárias\n",
    "\n",
    "import pandas as pd\n",
    "import numpy as np\n",
    "from keras.models import Sequential\n",
    "from keras.layers import Dense, Dropout"
   ]
  },
  {
   "cell_type": "markdown",
   "metadata": {
    "colab_type": "text",
    "id": "oiBiS3SLsj5E"
   },
   "source": [
    "### Importando a Base de Dados"
   ]
  },
  {
   "cell_type": "code",
   "execution_count": 4,
   "metadata": {
    "colab": {},
    "colab_type": "code",
    "id": "KBBCWXz9rW9A"
   },
   "outputs": [],
   "source": [
    "# separando os atributos previsores do meta\n",
    "previsores = pd.read_csv('entradas_breast.csv', \n",
    "                         encoding = 'utf-8', sep = ',')\n",
    "classe = pd.read_csv('saidas_breast.csv', \n",
    "                     encoding = 'utf-8', sep = ',')"
   ]
  },
  {
   "cell_type": "markdown",
   "metadata": {
    "colab_type": "text",
    "id": "JhLXyA3jtJzc"
   },
   "source": [
    "### Configurando a Rede Neural Artificial"
   ]
  },
  {
   "cell_type": "code",
   "execution_count": 5,
   "metadata": {
    "colab": {},
    "colab_type": "code",
    "id": "M2nnbvN5tNRD"
   },
   "outputs": [],
   "source": [
    "# criando o objeto 'classificador'\n",
    "classificador = Sequential()"
   ]
  },
  {
   "cell_type": "code",
   "execution_count": 6,
   "metadata": {
    "colab": {},
    "colab_type": "code",
    "id": "ziWxfhQEtTBi"
   },
   "outputs": [],
   "source": [
    "# adicionando camadas de entrada, oculta e de saída, juntamente com o dropout\n",
    "\n",
    "classificador.add(Dense(units = 8, activation = 'relu', \n",
    "                        kernel_initializer = 'normal', input_dim = 30))\n",
    "classificador.add(Dropout(0.2))\n",
    "classificador.add(Dense(units = 8, activation = 'relu', \n",
    "                        kernel_initializer = 'normal'))\n",
    "classificador.add(Dropout(0.2))\n",
    "classificador.add(Dense(units = 1, activation = 'sigmoid' ))"
   ]
  },
  {
   "cell_type": "code",
   "execution_count": 7,
   "metadata": {
    "colab": {},
    "colab_type": "code",
    "id": "zpYfRtXCuCYK"
   },
   "outputs": [],
   "source": [
    "# definindo os parâmetros para fazer o melhor ajuste de pesos na rede neural\n",
    "classificador.compile(optimizer = 'adam', loss = 'binary_crossentropy',\n",
    "                      metrics = ['binary_accuracy'])"
   ]
  },
  {
   "cell_type": "markdown",
   "metadata": {
    "colab_type": "text",
    "id": "7agVHMkBurLk"
   },
   "source": [
    "### Treinando a Rede Neural"
   ]
  },
  {
   "cell_type": "code",
   "execution_count": 8,
   "metadata": {
    "colab": {
     "base_uri": "https://localhost:8080/",
     "height": 1000
    },
    "colab_type": "code",
    "id": "bjWlsPIduZCV",
    "outputId": "4784fd58-6c6c-4b53-f41a-541e027b8115"
   },
   "outputs": [
    {
     "name": "stdout",
     "output_type": "stream",
     "text": [
      "Epoch 1/100\n",
      "569/569 [==============================] - 0s 793us/step - loss: 2.0508 - binary_accuracy: 0.5167\n",
      "Epoch 2/100\n",
      "569/569 [==============================] - 0s 131us/step - loss: 0.7642 - binary_accuracy: 0.6274\n",
      "Epoch 3/100\n",
      "569/569 [==============================] - 0s 124us/step - loss: 0.6980 - binary_accuracy: 0.5993\n",
      "Epoch 4/100\n",
      "569/569 [==============================] - 0s 135us/step - loss: 0.7014 - binary_accuracy: 0.5958\n",
      "Epoch 5/100\n",
      "569/569 [==============================] - 0s 125us/step - loss: 0.5797 - binary_accuracy: 0.6309\n",
      "Epoch 6/100\n",
      "569/569 [==============================] - 0s 129us/step - loss: 0.5567 - binary_accuracy: 0.6344\n",
      "Epoch 7/100\n",
      "569/569 [==============================] - 0s 132us/step - loss: 0.5761 - binary_accuracy: 0.6292\n",
      "Epoch 8/100\n",
      "569/569 [==============================] - 0s 148us/step - loss: 0.5590 - binary_accuracy: 0.6327\n",
      "Epoch 9/100\n",
      "569/569 [==============================] - 0s 127us/step - loss: 0.5436 - binary_accuracy: 0.6344\n",
      "Epoch 10/100\n",
      "569/569 [==============================] - 0s 128us/step - loss: 0.5396 - binary_accuracy: 0.6397\n",
      "Epoch 11/100\n",
      "569/569 [==============================] - 0s 128us/step - loss: 0.5525 - binary_accuracy: 0.6309\n",
      "Epoch 12/100\n",
      "569/569 [==============================] - 0s 130us/step - loss: 0.5419 - binary_accuracy: 0.6380\n",
      "Epoch 13/100\n",
      "569/569 [==============================] - 0s 145us/step - loss: 0.5454 - binary_accuracy: 0.6415\n",
      "Epoch 14/100\n",
      "569/569 [==============================] - 0s 134us/step - loss: 0.5270 - binary_accuracy: 0.6397\n",
      "Epoch 15/100\n",
      "569/569 [==============================] - 0s 133us/step - loss: 0.5395 - binary_accuracy: 0.6186\n",
      "Epoch 16/100\n",
      "569/569 [==============================] - 0s 127us/step - loss: 0.5394 - binary_accuracy: 0.6397\n",
      "Epoch 17/100\n",
      "569/569 [==============================] - 0s 135us/step - loss: 0.5446 - binary_accuracy: 0.6380\n",
      "Epoch 18/100\n",
      "569/569 [==============================] - 0s 122us/step - loss: 0.5610 - binary_accuracy: 0.6397\n",
      "Epoch 19/100\n",
      "569/569 [==============================] - 0s 124us/step - loss: 0.5277 - binary_accuracy: 0.6432\n",
      "Epoch 20/100\n",
      "569/569 [==============================] - 0s 132us/step - loss: 0.5398 - binary_accuracy: 0.6362\n",
      "Epoch 21/100\n",
      "569/569 [==============================] - 0s 134us/step - loss: 0.5509 - binary_accuracy: 0.6344\n",
      "Epoch 22/100\n",
      "569/569 [==============================] - 0s 128us/step - loss: 0.5359 - binary_accuracy: 0.6362\n",
      "Epoch 23/100\n",
      "569/569 [==============================] - 0s 127us/step - loss: 0.5422 - binary_accuracy: 0.6344\n",
      "Epoch 24/100\n",
      "569/569 [==============================] - 0s 125us/step - loss: 0.5412 - binary_accuracy: 0.6766\n",
      "Epoch 25/100\n",
      "569/569 [==============================] - 0s 129us/step - loss: 0.5278 - binary_accuracy: 0.6749\n",
      "Epoch 26/100\n",
      "569/569 [==============================] - 0s 128us/step - loss: 0.5437 - binary_accuracy: 0.7065\n",
      "Epoch 27/100\n",
      "569/569 [==============================] - 0s 132us/step - loss: 0.5150 - binary_accuracy: 0.7434\n",
      "Epoch 28/100\n",
      "569/569 [==============================] - 0s 135us/step - loss: 0.5040 - binary_accuracy: 0.7540\n",
      "Epoch 29/100\n",
      "569/569 [==============================] - 0s 124us/step - loss: 0.5111 - binary_accuracy: 0.7469\n",
      "Epoch 30/100\n",
      "569/569 [==============================] - 0s 125us/step - loss: 0.5060 - binary_accuracy: 0.7645\n",
      "Epoch 31/100\n",
      "569/569 [==============================] - 0s 134us/step - loss: 0.4888 - binary_accuracy: 0.7504\n",
      "Epoch 32/100\n",
      "569/569 [==============================] - 0s 126us/step - loss: 0.4908 - binary_accuracy: 0.7768\n",
      "Epoch 33/100\n",
      "569/569 [==============================] - 0s 134us/step - loss: 0.4919 - binary_accuracy: 0.7873\n",
      "Epoch 34/100\n",
      "569/569 [==============================] - 0s 128us/step - loss: 0.4912 - binary_accuracy: 0.7926\n",
      "Epoch 35/100\n",
      "569/569 [==============================] - 0s 128us/step - loss: 0.4785 - binary_accuracy: 0.7979\n",
      "Epoch 36/100\n",
      "569/569 [==============================] - 0s 126us/step - loss: 0.4686 - binary_accuracy: 0.8067\n",
      "Epoch 37/100\n",
      "569/569 [==============================] - 0s 129us/step - loss: 0.4607 - binary_accuracy: 0.7821\n",
      "Epoch 38/100\n",
      "569/569 [==============================] - 0s 129us/step - loss: 0.4360 - binary_accuracy: 0.7979\n",
      "Epoch 39/100\n",
      "569/569 [==============================] - 0s 136us/step - loss: 0.4592 - binary_accuracy: 0.7996\n",
      "Epoch 40/100\n",
      "569/569 [==============================] - 0s 131us/step - loss: 0.4553 - binary_accuracy: 0.7926\n",
      "Epoch 41/100\n",
      "569/569 [==============================] - 0s 126us/step - loss: 0.4431 - binary_accuracy: 0.8102\n",
      "Epoch 42/100\n",
      "569/569 [==============================] - 0s 128us/step - loss: 0.4441 - binary_accuracy: 0.7821\n",
      "Epoch 43/100\n",
      "569/569 [==============================] - 0s 126us/step - loss: 0.4255 - binary_accuracy: 0.8243\n",
      "Epoch 44/100\n",
      "569/569 [==============================] - 0s 133us/step - loss: 0.4237 - binary_accuracy: 0.8243\n",
      "Epoch 45/100\n",
      "569/569 [==============================] - 0s 128us/step - loss: 0.4158 - binary_accuracy: 0.8155\n",
      "Epoch 46/100\n",
      "569/569 [==============================] - 0s 125us/step - loss: 0.4061 - binary_accuracy: 0.8207\n",
      "Epoch 47/100\n",
      "569/569 [==============================] - 0s 129us/step - loss: 0.3956 - binary_accuracy: 0.8436\n",
      "Epoch 48/100\n",
      "569/569 [==============================] - 0s 128us/step - loss: 0.4150 - binary_accuracy: 0.8330\n",
      "Epoch 49/100\n",
      "569/569 [==============================] - 0s 130us/step - loss: 0.4174 - binary_accuracy: 0.8032\n",
      "Epoch 50/100\n",
      "569/569 [==============================] - 0s 158us/step - loss: 0.4354 - binary_accuracy: 0.8172\n",
      "Epoch 51/100\n",
      "569/569 [==============================] - 0s 137us/step - loss: 0.4187 - binary_accuracy: 0.8102\n",
      "Epoch 52/100\n",
      "569/569 [==============================] - 0s 131us/step - loss: 0.4376 - binary_accuracy: 0.8190\n",
      "Epoch 53/100\n",
      "569/569 [==============================] - 0s 126us/step - loss: 0.3982 - binary_accuracy: 0.8155\n",
      "Epoch 54/100\n",
      "569/569 [==============================] - 0s 128us/step - loss: 0.3858 - binary_accuracy: 0.8243\n",
      "Epoch 55/100\n",
      "569/569 [==============================] - 0s 123us/step - loss: 0.3950 - binary_accuracy: 0.8278\n",
      "Epoch 56/100\n",
      "569/569 [==============================] - 0s 126us/step - loss: 0.3778 - binary_accuracy: 0.8489\n",
      "Epoch 57/100\n",
      "569/569 [==============================] - 0s 122us/step - loss: 0.4242 - binary_accuracy: 0.8049\n",
      "Epoch 58/100\n",
      "569/569 [==============================] - 0s 134us/step - loss: 0.3877 - binary_accuracy: 0.8330\n",
      "Epoch 59/100\n",
      "569/569 [==============================] - 0s 127us/step - loss: 0.3920 - binary_accuracy: 0.8155\n",
      "Epoch 60/100\n",
      "569/569 [==============================] - 0s 128us/step - loss: 0.3876 - binary_accuracy: 0.8471\n",
      "Epoch 61/100\n",
      "569/569 [==============================] - 0s 132us/step - loss: 0.3707 - binary_accuracy: 0.8506\n",
      "Epoch 62/100\n",
      "569/569 [==============================] - 0s 126us/step - loss: 0.3925 - binary_accuracy: 0.8313\n",
      "Epoch 63/100\n",
      "569/569 [==============================] - 0s 127us/step - loss: 0.3672 - binary_accuracy: 0.8383\n",
      "Epoch 64/100\n",
      "569/569 [==============================] - 0s 127us/step - loss: 0.4131 - binary_accuracy: 0.8014\n",
      "Epoch 65/100\n",
      "569/569 [==============================] - 0s 125us/step - loss: 0.4213 - binary_accuracy: 0.8190\n",
      "Epoch 66/100\n",
      "569/569 [==============================] - 0s 135us/step - loss: 0.3598 - binary_accuracy: 0.8506\n",
      "Epoch 67/100\n",
      "569/569 [==============================] - 0s 124us/step - loss: 0.3579 - binary_accuracy: 0.8576\n",
      "Epoch 68/100\n",
      "569/569 [==============================] - 0s 127us/step - loss: 0.3863 - binary_accuracy: 0.8243\n",
      "Epoch 69/100\n",
      "569/569 [==============================] - 0s 127us/step - loss: 0.3930 - binary_accuracy: 0.8436\n",
      "Epoch 70/100\n",
      "569/569 [==============================] - 0s 127us/step - loss: 0.3984 - binary_accuracy: 0.8383\n",
      "Epoch 71/100\n",
      "569/569 [==============================] - 0s 136us/step - loss: 0.3755 - binary_accuracy: 0.8453\n",
      "Epoch 72/100\n",
      "569/569 [==============================] - 0s 133us/step - loss: 0.3493 - binary_accuracy: 0.8576\n",
      "Epoch 73/100\n",
      "569/569 [==============================] - 0s 131us/step - loss: 0.3428 - binary_accuracy: 0.8717\n",
      "Epoch 74/100\n",
      "569/569 [==============================] - 0s 126us/step - loss: 0.3294 - binary_accuracy: 0.8822\n",
      "Epoch 75/100\n",
      "569/569 [==============================] - 0s 127us/step - loss: 0.3205 - binary_accuracy: 0.8805\n",
      "Epoch 76/100\n",
      "569/569 [==============================] - 0s 122us/step - loss: 0.3370 - binary_accuracy: 0.8735\n",
      "Epoch 77/100\n",
      "569/569 [==============================] - 0s 126us/step - loss: 0.3127 - binary_accuracy: 0.8981\n",
      "Epoch 78/100\n",
      "569/569 [==============================] - 0s 131us/step - loss: 0.3413 - binary_accuracy: 0.8699\n",
      "Epoch 79/100\n",
      "569/569 [==============================] - 0s 126us/step - loss: 0.3448 - binary_accuracy: 0.8541\n",
      "Epoch 80/100\n",
      "569/569 [==============================] - 0s 128us/step - loss: 0.3712 - binary_accuracy: 0.8436\n",
      "Epoch 81/100\n",
      "569/569 [==============================] - 0s 130us/step - loss: 0.3137 - binary_accuracy: 0.8963\n",
      "Epoch 82/100\n",
      "569/569 [==============================] - 0s 126us/step - loss: 0.3164 - binary_accuracy: 0.8787\n",
      "Epoch 83/100\n",
      "569/569 [==============================] - 0s 127us/step - loss: 0.3072 - binary_accuracy: 0.8822\n",
      "Epoch 84/100\n",
      "569/569 [==============================] - 0s 126us/step - loss: 0.3499 - binary_accuracy: 0.8541\n",
      "Epoch 85/100\n",
      "569/569 [==============================] - 0s 144us/step - loss: 0.3703 - binary_accuracy: 0.8401\n",
      "Epoch 86/100\n",
      "569/569 [==============================] - 0s 131us/step - loss: 0.3867 - binary_accuracy: 0.8067\n",
      "Epoch 87/100\n",
      "569/569 [==============================] - 0s 124us/step - loss: 0.4286 - binary_accuracy: 0.7944\n",
      "Epoch 88/100\n",
      "569/569 [==============================] - 0s 124us/step - loss: 0.4201 - binary_accuracy: 0.7856\n",
      "Epoch 89/100\n",
      "569/569 [==============================] - 0s 128us/step - loss: 0.3860 - binary_accuracy: 0.8067\n",
      "Epoch 90/100\n",
      "569/569 [==============================] - 0s 126us/step - loss: 0.3787 - binary_accuracy: 0.8295\n",
      "Epoch 91/100\n",
      "569/569 [==============================] - 0s 125us/step - loss: 0.3475 - binary_accuracy: 0.8524\n",
      "Epoch 92/100\n",
      "569/569 [==============================] - 0s 122us/step - loss: 0.3404 - binary_accuracy: 0.8489\n",
      "Epoch 93/100\n",
      "569/569 [==============================] - 0s 129us/step - loss: 0.2901 - binary_accuracy: 0.9051\n",
      "Epoch 94/100\n",
      "569/569 [==============================] - 0s 140us/step - loss: 0.3163 - binary_accuracy: 0.8770\n",
      "Epoch 95/100\n",
      "569/569 [==============================] - 0s 131us/step - loss: 0.2978 - binary_accuracy: 0.8928\n",
      "Epoch 96/100\n",
      "569/569 [==============================] - 0s 129us/step - loss: 0.3044 - binary_accuracy: 0.8770\n",
      "Epoch 97/100\n",
      "569/569 [==============================] - 0s 130us/step - loss: 0.3033 - binary_accuracy: 0.8875\n",
      "Epoch 98/100\n",
      "569/569 [==============================] - 0s 124us/step - loss: 0.3345 - binary_accuracy: 0.8594\n",
      "Epoch 99/100\n",
      "569/569 [==============================] - 0s 132us/step - loss: 0.3480 - binary_accuracy: 0.8629\n",
      "Epoch 100/100\n",
      "569/569 [==============================] - 0s 124us/step - loss: 0.2891 - binary_accuracy: 0.8893\n"
     ]
    },
    {
     "data": {
      "text/plain": [
       "<keras.callbacks.callbacks.History at 0x7f612bc79470>"
      ]
     },
     "execution_count": 8,
     "metadata": {
      "tags": []
     },
     "output_type": "execute_result"
    }
   ],
   "source": [
    "# treinando a rede neural\n",
    "classificador.fit(previsores, classe, batch_size = 10, epochs = 100)"
   ]
  },
  {
   "cell_type": "markdown",
   "metadata": {
    "colab_type": "text",
    "id": "TyIl6cX7uum6"
   },
   "source": [
    "### Predição com Novas Entradas"
   ]
  },
  {
   "cell_type": "code",
   "execution_count": 9,
   "metadata": {
    "colab": {},
    "colab_type": "code",
    "id": "cbl58bENuxmT"
   },
   "outputs": [],
   "source": [
    "# definindo um novo registro\n",
    "novo = np.array([[15.80, 8.34, 118, 900, 0.10, 0.26, 0.08, 0.134, 0.178,\n",
    "                  0.20, 0.05, 1098, 0.87, 4500, 145.2, 0.005, 0.04, 0.05, 0.015,\n",
    "                  0.03, 0.007, 23.15, 16.64, 178.5, 2018, 0.14, 0.185,\n",
    "                  0.84, 158, 0.363]])"
   ]
  },
  {
   "cell_type": "code",
   "execution_count": 10,
   "metadata": {
    "colab": {
     "base_uri": "https://localhost:8080/",
     "height": 53
    },
    "colab_type": "code",
    "id": "mXkGekXqvEeY",
    "outputId": "41869821-959b-4f24-ad17-b41a274c356f"
   },
   "outputs": [
    {
     "name": "stdout",
     "output_type": "stream",
     "text": [
      "[[1.]]\n",
      "[[ True]]\n"
     ]
    }
   ],
   "source": [
    "# obtendo a previsão para esse novo registros\n",
    "previsao = classificador.predict(novo)\n",
    "# obtendo a classe que o algoritmo classificou para esse registro\n",
    "print(previsao)\n",
    "# definindo um limiar de aceitabilidade\n",
    "print(previsao > 0.5)"
   ]
  },
  {
   "cell_type": "markdown",
   "metadata": {
    "colab_type": "text",
    "id": "s7u8fCBdvcRD"
   },
   "source": [
    "Observe que para o registro acima, o algoritmo o classificou como câncer de mama maligno."
   ]
  },
  {
   "cell_type": "markdown",
   "metadata": {
    "colab_type": "text",
    "id": "hfRPq00RvjQe"
   },
   "source": [
    "### Alguma Dúvida? Entre em Contato Comigo:"
   ]
  },
  {
   "cell_type": "markdown",
   "metadata": {
    "colab_type": "text",
    "id": "eKz16Kv6vmYD"
   },
   "source": [
    "- [Me envie um e-mail](mailto:alysson.barbosa@ee.ufcg.edu.br);"
   ]
  }
 ],
 "metadata": {
  "colab": {
   "collapsed_sections": [],
   "name": "Untitled10.ipynb",
   "provenance": [],
   "toc_visible": true
  },
  "kernelspec": {
   "display_name": "Python 3",
   "language": "python",
   "name": "python3"
  },
  "language_info": {
   "codemirror_mode": {
    "name": "ipython",
    "version": 3
   },
   "file_extension": ".py",
   "mimetype": "text/x-python",
   "name": "python",
   "nbconvert_exporter": "python",
   "pygments_lexer": "ipython3",
   "version": "3.7.4"
  }
 },
 "nbformat": 4,
 "nbformat_minor": 4
}
