{
 "cells": [
  {
   "cell_type": "markdown",
   "metadata": {
    "colab_type": "text",
    "id": "ZFeg0aBWif1n"
   },
   "source": [
    "# Base de Dados Breast Cancer\n",
    "#### Análise se um tumor é maligno ou benigno através de diversos parâmetros."
   ]
  },
  {
   "cell_type": "markdown",
   "metadata": {
    "colab_type": "text",
    "id": "yzLCmJtLtYxS"
   },
   "source": [
    "### Pré-processamento dos Dados"
   ]
  },
  {
   "cell_type": "code",
   "execution_count": 1,
   "metadata": {
    "colab": {},
    "colab_type": "code",
    "id": "fJOkH2Y3if1r"
   },
   "outputs": [],
   "source": [
    "# importando a biblioteca pandas do python\n",
    "import pandas as pd"
   ]
  },
  {
   "cell_type": "code",
   "execution_count": 3,
   "metadata": {
    "colab": {},
    "colab_type": "code",
    "id": "eggrl6yUif17"
   },
   "outputs": [],
   "source": [
    "# colocando no 'dataframe' os atributos previsores\n",
    "previsores = pd.read_csv('entradas_breast.csv', encoding = 'utf-8', sep = ',')"
   ]
  },
  {
   "cell_type": "code",
   "execution_count": 4,
   "metadata": {
    "colab": {},
    "colab_type": "code",
    "id": "7j3189yTif2K"
   },
   "outputs": [],
   "source": [
    "# colocando no 'dataframe' os atributos meta\n",
    "classe = pd.read_csv('saidas_breast.csv', encoding = 'utf-8', sep = ',')"
   ]
  },
  {
   "cell_type": "code",
   "execution_count": 5,
   "metadata": {
    "colab": {
     "base_uri": "https://localhost:8080/",
     "height": 267
    },
    "colab_type": "code",
    "id": "mK5Y5IBTif2W",
    "outputId": "6c10b6e0-d9e9-48b1-ffb5-934618937523"
   },
   "outputs": [
    {
     "name": "stdout",
     "output_type": "stream",
     "text": [
      "      radius_mean   texture_mean  ...   symmetry_worst   fractal_dimension_worst\n",
      "0           17.99          10.38  ...           0.4601                   0.11890\n",
      "1           20.57          17.77  ...         275.0000                   0.08902\n",
      "2           19.69          21.25  ...           0.3613                   0.08758\n",
      "3           11.42          20.38  ...           0.6638                 173.00000\n",
      "4           20.29          14.34  ...           0.2364                   0.07678\n",
      "..            ...            ...  ...              ...                       ...\n",
      "564         21.56          22.39  ...         206.0000                   0.07115\n",
      "565         20.13          28.25  ...           0.2572                   0.06637\n",
      "566         16.60          28.08  ...           0.2218                   0.07820\n",
      "567         20.60          29.33  ...           0.4087                 124.00000\n",
      "568          7.76          24.54  ...           0.2871                   0.07039\n",
      "\n",
      "[569 rows x 30 columns]\n"
     ]
    }
   ],
   "source": [
    "# visualizando os atributos 'previsores'\n",
    "print(previsores)"
   ]
  },
  {
   "cell_type": "code",
   "execution_count": 6,
   "metadata": {
    "colab": {
     "base_uri": "https://localhost:8080/",
     "height": 35
    },
    "colab_type": "code",
    "id": "tAON5sw3if2g",
    "outputId": "c4db415e-7383-4e76-af51-ec4ebc627a97"
   },
   "outputs": [
    {
     "name": "stdout",
     "output_type": "stream",
     "text": [
      "(569, 30)\n"
     ]
    }
   ],
   "source": [
    "# visualizando a dimensão dos atributos previsores\n",
    "print(previsores.shape)"
   ]
  },
  {
   "cell_type": "markdown",
   "metadata": {
    "colab_type": "text",
    "id": "1tty_a0Eif2q"
   },
   "source": [
    "Observe que existem 569 registros e 30 atributos previsores na base de dados."
   ]
  },
  {
   "cell_type": "code",
   "execution_count": 7,
   "metadata": {
    "colab": {
     "base_uri": "https://localhost:8080/",
     "height": 267
    },
    "colab_type": "code",
    "id": "sTStPjVlif2s",
    "outputId": "00171fc9-c9a7-4517-a99c-8006593b4650"
   },
   "outputs": [
    {
     "name": "stdout",
     "output_type": "stream",
     "text": [
      "     0\n",
      "0    0\n",
      "1    0\n",
      "2    0\n",
      "3    0\n",
      "4    0\n",
      "..  ..\n",
      "564  0\n",
      "565  0\n",
      "566  0\n",
      "567  0\n",
      "568  1\n",
      "\n",
      "[569 rows x 1 columns]\n"
     ]
    }
   ],
   "source": [
    "# visualizando os atributos 'meta'\n",
    "print(classe)"
   ]
  },
  {
   "cell_type": "code",
   "execution_count": 8,
   "metadata": {
    "colab": {
     "base_uri": "https://localhost:8080/",
     "height": 35
    },
    "colab_type": "code",
    "id": "_fACrXUIif22",
    "outputId": "67fba544-f415-4cdd-aa1f-b9f468b856c5"
   },
   "outputs": [
    {
     "name": "stdout",
     "output_type": "stream",
     "text": [
      "(569, 1)\n"
     ]
    }
   ],
   "source": [
    "# visualizando as dimensões do atributo 'meta'\n",
    "print(classe.shape)"
   ]
  },
  {
   "cell_type": "markdown",
   "metadata": {
    "colab_type": "text",
    "id": "7Otl_9p0if2-"
   },
   "source": [
    "Observe que para cada registro existe uma classe. Caso seja 0 indica que o paciente possui um tumor benigno, caso seja 1 indica que o paciente possui um tumor maligno."
   ]
  },
  {
   "cell_type": "code",
   "execution_count": 9,
   "metadata": {
    "colab": {},
    "colab_type": "code",
    "id": "RPWd9L-1if2-"
   },
   "outputs": [],
   "source": [
    "# importando a biblioteca sklearn do python\n",
    "from sklearn.model_selection import train_test_split"
   ]
  },
  {
   "cell_type": "code",
   "execution_count": 10,
   "metadata": {
    "colab": {},
    "colab_type": "code",
    "id": "W4JHxopGif3G"
   },
   "outputs": [],
   "source": [
    "# separando a base de dados em treinamento e teste\n",
    "prev_trein, prev_test, classe_trein, classe_test = train_test_split(previsores, classe, test_size = 0.25,\n",
    "                                                                   random_state = 0)"
   ]
  },
  {
   "cell_type": "code",
   "execution_count": 11,
   "metadata": {
    "colab": {
     "base_uri": "https://localhost:8080/",
     "height": 35
    },
    "colab_type": "code",
    "id": "OELD_mMIif3N",
    "outputId": "5c0cd681-29d2-40ef-ff2a-c10e0ee05624"
   },
   "outputs": [
    {
     "name": "stdout",
     "output_type": "stream",
     "text": [
      "(426, 30)\n"
     ]
    }
   ],
   "source": [
    "# visualizando a dimensão de 'prev_trein'\n",
    "print(prev_trein.shape)"
   ]
  },
  {
   "cell_type": "code",
   "execution_count": 12,
   "metadata": {
    "colab": {
     "base_uri": "https://localhost:8080/",
     "height": 35
    },
    "colab_type": "code",
    "id": "jiQdJdBGif3V",
    "outputId": "17f883ac-39be-49ba-eccd-c8781ceb5156"
   },
   "outputs": [
    {
     "name": "stdout",
     "output_type": "stream",
     "text": [
      "(143, 30)\n"
     ]
    }
   ],
   "source": [
    "# visualizando a dimensão de 'prev_test'\n",
    "print(prev_test.shape)"
   ]
  },
  {
   "cell_type": "code",
   "execution_count": 13,
   "metadata": {
    "colab": {
     "base_uri": "https://localhost:8080/",
     "height": 35
    },
    "colab_type": "code",
    "id": "mFSKH1SFif3e",
    "outputId": "9abf6f97-f8cb-4639-b92c-802f1a4415e8"
   },
   "outputs": [
    {
     "name": "stdout",
     "output_type": "stream",
     "text": [
      "(426, 1)\n"
     ]
    }
   ],
   "source": [
    "# visualizando a dimensão de 'classe_trein'\n",
    "print(classe_trein.shape)"
   ]
  },
  {
   "cell_type": "code",
   "execution_count": 14,
   "metadata": {
    "colab": {
     "base_uri": "https://localhost:8080/",
     "height": 35
    },
    "colab_type": "code",
    "id": "hlLAy1Zmif3l",
    "outputId": "5374e72a-d6b0-4f0e-8511-1e356e741d45"
   },
   "outputs": [
    {
     "name": "stdout",
     "output_type": "stream",
     "text": [
      "(143, 1)\n"
     ]
    }
   ],
   "source": [
    "# visualizando a dimensão de 'classe_test'\n",
    "print(classe_test.shape)"
   ]
  },
  {
   "cell_type": "markdown",
   "metadata": {
    "colab_type": "text",
    "id": "TQLjO-vvtUsm"
   },
   "source": [
    "### Configurando a Rede Neural Artificial"
   ]
  },
  {
   "cell_type": "markdown",
   "metadata": {
    "colab_type": "text",
    "id": "l5zX65KVif3r"
   },
   "source": [
    "Vamos criar uma rede multicamada em que cada uma dessas camadas vão se ligar sequencialmente."
   ]
  },
  {
   "cell_type": "code",
   "execution_count": 15,
   "metadata": {
    "colab": {
     "base_uri": "https://localhost:8080/",
     "height": 35
    },
    "colab_type": "code",
    "id": "LWT63Q3cif3t",
    "outputId": "e6e8ba88-fb8a-448b-a408-9cdaa1010c8a"
   },
   "outputs": [
    {
     "name": "stderr",
     "output_type": "stream",
     "text": [
      "Using TensorFlow backend.\n"
     ]
    }
   ],
   "source": [
    "# importando a biblioteca keras do python\n",
    "import keras"
   ]
  },
  {
   "cell_type": "code",
   "execution_count": 16,
   "metadata": {
    "colab": {},
    "colab_type": "code",
    "id": "5Hx9XStqif30"
   },
   "outputs": [],
   "source": [
    "# importando recursos do keras\n",
    "from keras.models import Sequential"
   ]
  },
  {
   "cell_type": "code",
   "execution_count": 17,
   "metadata": {
    "colab": {},
    "colab_type": "code",
    "id": "8WlREtjSjJCV"
   },
   "outputs": [],
   "source": [
    "# importando recursos do keras\n",
    "from keras.layers import Dense"
   ]
  },
  {
   "cell_type": "code",
   "execution_count": 18,
   "metadata": {
    "colab": {},
    "colab_type": "code",
    "id": "BjoeII7DpBUM"
   },
   "outputs": [],
   "source": [
    "# criando um objeto 'clssificador'\n",
    "classificador = Sequential()"
   ]
  },
  {
   "cell_type": "code",
   "execution_count": 19,
   "metadata": {
    "colab": {},
    "colab_type": "code",
    "id": "ebyCR15rpW4e"
   },
   "outputs": [],
   "source": [
    "# adicionando uma camada densa a rede neural\n",
    "classificador.add(Dense(units = (((30 + 1) // 2) + 1), activation = 'relu', \n",
    "                        kernel_initializer = 'random_uniform', input_dim = 30))"
   ]
  },
  {
   "cell_type": "code",
   "execution_count": 21,
   "metadata": {
    "colab": {},
    "colab_type": "code",
    "id": "QyoIsi-5pwdQ"
   },
   "outputs": [],
   "source": [
    "# adicionando uma camada de saída na rede neural\n",
    "classificador.add(Dense(units = 1, activation = 'sigmoid'))"
   ]
  },
  {
   "cell_type": "code",
   "execution_count": 23,
   "metadata": {
    "colab": {},
    "colab_type": "code",
    "id": "xcyuux3ar9Nb"
   },
   "outputs": [],
   "source": [
    "# adicionando parâmetros para otimizar o cálculo de pesos\n",
    "classificador.compile(optimizer = 'adam', loss = 'binary_crossentropy', metrics = ['binary_accuracy'])"
   ]
  },
  {
   "cell_type": "markdown",
   "metadata": {
    "colab_type": "text",
    "id": "oqOwOLYRtLCA"
   },
   "source": [
    "### Treinando a Rede Neural Artificial com os Dados Disponíveis"
   ]
  },
  {
   "cell_type": "code",
   "execution_count": 24,
   "metadata": {
    "colab": {
     "base_uri": "https://localhost:8080/",
     "height": 1000
    },
    "colab_type": "code",
    "id": "JWCp7li3sUa2",
    "outputId": "8b51a773-a69d-4263-f2eb-86e6c1168616"
   },
   "outputs": [
    {
     "name": "stdout",
     "output_type": "stream",
     "text": [
      "Epoch 1/100\n",
      "426/426 [==============================] - 0s 310us/step - loss: 8.6059 - binary_accuracy: 0.6056\n",
      "Epoch 2/100\n",
      "426/426 [==============================] - 0s 111us/step - loss: 2.1056 - binary_accuracy: 0.7183\n",
      "Epoch 3/100\n",
      "426/426 [==============================] - 0s 122us/step - loss: 0.7032 - binary_accuracy: 0.7958\n",
      "Epoch 4/100\n",
      "426/426 [==============================] - 0s 102us/step - loss: 0.5113 - binary_accuracy: 0.8427\n",
      "Epoch 5/100\n",
      "426/426 [==============================] - 0s 107us/step - loss: 0.4045 - binary_accuracy: 0.8545\n",
      "Epoch 6/100\n",
      "426/426 [==============================] - 0s 110us/step - loss: 0.4432 - binary_accuracy: 0.8357\n",
      "Epoch 7/100\n",
      "426/426 [==============================] - 0s 107us/step - loss: 0.3257 - binary_accuracy: 0.8897\n",
      "Epoch 8/100\n",
      "426/426 [==============================] - 0s 114us/step - loss: 0.3003 - binary_accuracy: 0.8826\n",
      "Epoch 9/100\n",
      "426/426 [==============================] - 0s 113us/step - loss: 0.2552 - binary_accuracy: 0.8944\n",
      "Epoch 10/100\n",
      "426/426 [==============================] - 0s 108us/step - loss: 0.2337 - binary_accuracy: 0.9014\n",
      "Epoch 11/100\n",
      "426/426 [==============================] - 0s 104us/step - loss: 0.1990 - binary_accuracy: 0.9225\n",
      "Epoch 12/100\n",
      "426/426 [==============================] - 0s 126us/step - loss: 0.3435 - binary_accuracy: 0.8709\n",
      "Epoch 13/100\n",
      "426/426 [==============================] - 0s 115us/step - loss: 0.3407 - binary_accuracy: 0.8897\n",
      "Epoch 14/100\n",
      "426/426 [==============================] - 0s 117us/step - loss: 0.1862 - binary_accuracy: 0.9249\n",
      "Epoch 15/100\n",
      "426/426 [==============================] - 0s 116us/step - loss: 0.1716 - binary_accuracy: 0.9366\n",
      "Epoch 16/100\n",
      "426/426 [==============================] - 0s 106us/step - loss: 0.2066 - binary_accuracy: 0.9225\n",
      "Epoch 17/100\n",
      "426/426 [==============================] - 0s 110us/step - loss: 0.2759 - binary_accuracy: 0.8991\n",
      "Epoch 18/100\n",
      "426/426 [==============================] - 0s 103us/step - loss: 0.2031 - binary_accuracy: 0.9131\n",
      "Epoch 19/100\n",
      "426/426 [==============================] - 0s 106us/step - loss: 0.2015 - binary_accuracy: 0.9178\n",
      "Epoch 20/100\n",
      "426/426 [==============================] - 0s 109us/step - loss: 0.2287 - binary_accuracy: 0.9061\n",
      "Epoch 21/100\n",
      "426/426 [==============================] - 0s 108us/step - loss: 0.2328 - binary_accuracy: 0.9131\n",
      "Epoch 22/100\n",
      "426/426 [==============================] - 0s 106us/step - loss: 0.2081 - binary_accuracy: 0.9178\n",
      "Epoch 23/100\n",
      "426/426 [==============================] - 0s 106us/step - loss: 0.1646 - binary_accuracy: 0.9390\n",
      "Epoch 24/100\n",
      "426/426 [==============================] - 0s 119us/step - loss: 0.2061 - binary_accuracy: 0.9272\n",
      "Epoch 25/100\n",
      "426/426 [==============================] - 0s 108us/step - loss: 0.2154 - binary_accuracy: 0.9038\n",
      "Epoch 26/100\n",
      "426/426 [==============================] - 0s 105us/step - loss: 0.3434 - binary_accuracy: 0.8873\n",
      "Epoch 27/100\n",
      "426/426 [==============================] - 0s 105us/step - loss: 0.1491 - binary_accuracy: 0.9366\n",
      "Epoch 28/100\n",
      "426/426 [==============================] - 0s 110us/step - loss: 0.1573 - binary_accuracy: 0.9319\n",
      "Epoch 29/100\n",
      "426/426 [==============================] - 0s 107us/step - loss: 0.3294 - binary_accuracy: 0.8779\n",
      "Epoch 30/100\n",
      "426/426 [==============================] - 0s 108us/step - loss: 0.2154 - binary_accuracy: 0.9202\n",
      "Epoch 31/100\n",
      "426/426 [==============================] - 0s 108us/step - loss: 0.2393 - binary_accuracy: 0.9085\n",
      "Epoch 32/100\n",
      "426/426 [==============================] - 0s 108us/step - loss: 0.3080 - binary_accuracy: 0.9085\n",
      "Epoch 33/100\n",
      "426/426 [==============================] - 0s 107us/step - loss: 0.1779 - binary_accuracy: 0.9296\n",
      "Epoch 34/100\n",
      "426/426 [==============================] - 0s 106us/step - loss: 0.2082 - binary_accuracy: 0.9178\n",
      "Epoch 35/100\n",
      "426/426 [==============================] - 0s 104us/step - loss: 0.1518 - binary_accuracy: 0.9343\n",
      "Epoch 36/100\n",
      "426/426 [==============================] - 0s 103us/step - loss: 0.1484 - binary_accuracy: 0.9554\n",
      "Epoch 37/100\n",
      "426/426 [==============================] - 0s 105us/step - loss: 0.1278 - binary_accuracy: 0.9484\n",
      "Epoch 38/100\n",
      "426/426 [==============================] - 0s 102us/step - loss: 0.2018 - binary_accuracy: 0.9390\n",
      "Epoch 39/100\n",
      "426/426 [==============================] - 0s 103us/step - loss: 0.1961 - binary_accuracy: 0.9249\n",
      "Epoch 40/100\n",
      "426/426 [==============================] - 0s 102us/step - loss: 0.1729 - binary_accuracy: 0.9296\n",
      "Epoch 41/100\n",
      "426/426 [==============================] - 0s 104us/step - loss: 0.1483 - binary_accuracy: 0.9319\n",
      "Epoch 42/100\n",
      "426/426 [==============================] - 0s 101us/step - loss: 0.2076 - binary_accuracy: 0.9131\n",
      "Epoch 43/100\n",
      "426/426 [==============================] - 0s 100us/step - loss: 0.1520 - binary_accuracy: 0.9437\n",
      "Epoch 44/100\n",
      "426/426 [==============================] - 0s 107us/step - loss: 0.2257 - binary_accuracy: 0.9272\n",
      "Epoch 45/100\n",
      "426/426 [==============================] - 0s 105us/step - loss: 0.2012 - binary_accuracy: 0.9225\n",
      "Epoch 46/100\n",
      "426/426 [==============================] - 0s 143us/step - loss: 0.1466 - binary_accuracy: 0.9531\n",
      "Epoch 47/100\n",
      "426/426 [==============================] - 0s 116us/step - loss: 0.1690 - binary_accuracy: 0.9296\n",
      "Epoch 48/100\n",
      "426/426 [==============================] - 0s 104us/step - loss: 0.2536 - binary_accuracy: 0.9272\n",
      "Epoch 49/100\n",
      "426/426 [==============================] - 0s 104us/step - loss: 0.1769 - binary_accuracy: 0.9343\n",
      "Epoch 50/100\n",
      "426/426 [==============================] - 0s 109us/step - loss: 0.1984 - binary_accuracy: 0.9296\n",
      "Epoch 51/100\n",
      "426/426 [==============================] - 0s 106us/step - loss: 0.1461 - binary_accuracy: 0.9413\n",
      "Epoch 52/100\n",
      "426/426 [==============================] - 0s 107us/step - loss: 0.1757 - binary_accuracy: 0.9131\n",
      "Epoch 53/100\n",
      "426/426 [==============================] - 0s 114us/step - loss: 0.1930 - binary_accuracy: 0.9343\n",
      "Epoch 54/100\n",
      "426/426 [==============================] - 0s 108us/step - loss: 0.2004 - binary_accuracy: 0.9296\n",
      "Epoch 55/100\n",
      "426/426 [==============================] - 0s 105us/step - loss: 0.1364 - binary_accuracy: 0.9460\n",
      "Epoch 56/100\n",
      "426/426 [==============================] - 0s 104us/step - loss: 0.1305 - binary_accuracy: 0.9413\n",
      "Epoch 57/100\n",
      "426/426 [==============================] - 0s 106us/step - loss: 0.1729 - binary_accuracy: 0.9296\n",
      "Epoch 58/100\n",
      "426/426 [==============================] - 0s 110us/step - loss: 0.1932 - binary_accuracy: 0.9249\n",
      "Epoch 59/100\n",
      "426/426 [==============================] - 0s 102us/step - loss: 0.1976 - binary_accuracy: 0.9155\n",
      "Epoch 60/100\n",
      "426/426 [==============================] - 0s 108us/step - loss: 0.2008 - binary_accuracy: 0.9272\n",
      "Epoch 61/100\n",
      "426/426 [==============================] - 0s 115us/step - loss: 0.1687 - binary_accuracy: 0.9366\n",
      "Epoch 62/100\n",
      "426/426 [==============================] - 0s 107us/step - loss: 0.1621 - binary_accuracy: 0.9413\n",
      "Epoch 63/100\n",
      "426/426 [==============================] - 0s 106us/step - loss: 0.1635 - binary_accuracy: 0.9413\n",
      "Epoch 64/100\n",
      "426/426 [==============================] - 0s 107us/step - loss: 0.1866 - binary_accuracy: 0.9319\n",
      "Epoch 65/100\n",
      "426/426 [==============================] - 0s 106us/step - loss: 0.2098 - binary_accuracy: 0.9178\n",
      "Epoch 66/100\n",
      "426/426 [==============================] - 0s 106us/step - loss: 0.1638 - binary_accuracy: 0.9249\n",
      "Epoch 67/100\n",
      "426/426 [==============================] - 0s 119us/step - loss: 0.1331 - binary_accuracy: 0.9460\n",
      "Epoch 68/100\n",
      "426/426 [==============================] - 0s 108us/step - loss: 0.1303 - binary_accuracy: 0.9343\n",
      "Epoch 69/100\n",
      "426/426 [==============================] - 0s 108us/step - loss: 0.1242 - binary_accuracy: 0.9437\n",
      "Epoch 70/100\n",
      "426/426 [==============================] - 0s 112us/step - loss: 0.2060 - binary_accuracy: 0.9249\n",
      "Epoch 71/100\n",
      "426/426 [==============================] - 0s 107us/step - loss: 0.1728 - binary_accuracy: 0.9366\n",
      "Epoch 72/100\n",
      "426/426 [==============================] - 0s 106us/step - loss: 0.2012 - binary_accuracy: 0.9202\n",
      "Epoch 73/100\n",
      "426/426 [==============================] - 0s 105us/step - loss: 0.4399 - binary_accuracy: 0.8779\n",
      "Epoch 74/100\n",
      "426/426 [==============================] - 0s 102us/step - loss: 0.2311 - binary_accuracy: 0.9061\n",
      "Epoch 75/100\n",
      "426/426 [==============================] - 0s 104us/step - loss: 0.1560 - binary_accuracy: 0.9484\n",
      "Epoch 76/100\n",
      "426/426 [==============================] - 0s 123us/step - loss: 0.2043 - binary_accuracy: 0.9225\n",
      "Epoch 77/100\n",
      "426/426 [==============================] - 0s 114us/step - loss: 0.2839 - binary_accuracy: 0.9131\n",
      "Epoch 78/100\n",
      "426/426 [==============================] - 0s 106us/step - loss: 0.2191 - binary_accuracy: 0.9178\n",
      "Epoch 79/100\n",
      "426/426 [==============================] - 0s 105us/step - loss: 0.1656 - binary_accuracy: 0.9225\n",
      "Epoch 80/100\n",
      "426/426 [==============================] - 0s 112us/step - loss: 0.1692 - binary_accuracy: 0.9437\n",
      "Epoch 81/100\n",
      "426/426 [==============================] - 0s 104us/step - loss: 0.1757 - binary_accuracy: 0.9460\n",
      "Epoch 82/100\n",
      "426/426 [==============================] - 0s 114us/step - loss: 0.1592 - binary_accuracy: 0.9343\n",
      "Epoch 83/100\n",
      "426/426 [==============================] - 0s 104us/step - loss: 0.1394 - binary_accuracy: 0.9366\n",
      "Epoch 84/100\n",
      "426/426 [==============================] - 0s 108us/step - loss: 0.1339 - binary_accuracy: 0.9484\n",
      "Epoch 85/100\n",
      "426/426 [==============================] - 0s 104us/step - loss: 0.1389 - binary_accuracy: 0.9460\n",
      "Epoch 86/100\n",
      "426/426 [==============================] - 0s 108us/step - loss: 0.1522 - binary_accuracy: 0.9319\n",
      "Epoch 87/100\n",
      "426/426 [==============================] - 0s 108us/step - loss: 0.1991 - binary_accuracy: 0.9272\n",
      "Epoch 88/100\n",
      "426/426 [==============================] - 0s 118us/step - loss: 0.2342 - binary_accuracy: 0.9178\n",
      "Epoch 89/100\n",
      "426/426 [==============================] - 0s 111us/step - loss: 0.1857 - binary_accuracy: 0.9390\n",
      "Epoch 90/100\n",
      "426/426 [==============================] - 0s 105us/step - loss: 0.1607 - binary_accuracy: 0.9413\n",
      "Epoch 91/100\n",
      "426/426 [==============================] - 0s 109us/step - loss: 0.1332 - binary_accuracy: 0.9460\n",
      "Epoch 92/100\n",
      "426/426 [==============================] - 0s 104us/step - loss: 0.1582 - binary_accuracy: 0.9460\n",
      "Epoch 93/100\n",
      "426/426 [==============================] - 0s 105us/step - loss: 0.1248 - binary_accuracy: 0.9460\n",
      "Epoch 94/100\n",
      "426/426 [==============================] - 0s 102us/step - loss: 0.1907 - binary_accuracy: 0.9225\n",
      "Epoch 95/100\n",
      "426/426 [==============================] - 0s 104us/step - loss: 0.1751 - binary_accuracy: 0.9249\n",
      "Epoch 96/100\n",
      "426/426 [==============================] - 0s 105us/step - loss: 0.1232 - binary_accuracy: 0.9507\n",
      "Epoch 97/100\n",
      "426/426 [==============================] - 0s 105us/step - loss: 0.1311 - binary_accuracy: 0.9484\n",
      "Epoch 98/100\n",
      "426/426 [==============================] - 0s 107us/step - loss: 0.1231 - binary_accuracy: 0.9624\n",
      "Epoch 99/100\n",
      "426/426 [==============================] - 0s 118us/step - loss: 0.1333 - binary_accuracy: 0.9507\n",
      "Epoch 100/100\n",
      "426/426 [==============================] - 0s 103us/step - loss: 0.1233 - binary_accuracy: 0.9484\n"
     ]
    },
    {
     "data": {
      "text/plain": [
       "<keras.callbacks.callbacks.History at 0x7f2886f84d68>"
      ]
     },
     "execution_count": 24,
     "metadata": {
      "tags": []
     },
     "output_type": "execute_result"
    }
   ],
   "source": [
    "# treinando a rede neural\n",
    "classificador.fit(prev_trein, classe_trein, batch_size = 10, epochs = 100)"
   ]
  },
  {
   "cell_type": "code",
   "execution_count": 35,
   "metadata": {
    "colab": {},
    "colab_type": "code",
    "id": "Dao01ruK1ePT"
   },
   "outputs": [],
   "source": [
    "# importanda a biblioteca numpy do python\n",
    "import numpy as np"
   ]
  },
  {
   "cell_type": "code",
   "execution_count": 38,
   "metadata": {
    "colab": {
     "base_uri": "https://localhost:8080/",
     "height": 53
    },
    "colab_type": "code",
    "id": "gwl68_tS1GtA",
    "outputId": "a6a8c5aa-117c-4887-8503-7ada9b069f45"
   },
   "outputs": [
    {
     "name": "stdout",
     "output_type": "stream",
     "text": [
      "(30, 16)\n",
      "(16,)\n"
     ]
    }
   ],
   "source": [
    "# visualizando os pesos da camada de entrada\n",
    "pesos0 = classificador.layers[0].get_weights()\n",
    "# transformando a lista em um array numpy\n",
    "pesos0 = np.asarray(pesos0)\n",
    "# imprimindo os pesos de cada neurônio de entrada\n",
    "print(pesos0[0].shape)\n",
    "# imprimindo os pesos do neurônio bias implementado pelo algoritmo\n",
    "print(pesos0[1].shape)"
   ]
  },
  {
   "cell_type": "markdown",
   "metadata": {
    "colab_type": "text",
    "id": "YSL0Yp4X2Gt5"
   },
   "source": [
    "Observe que para cada um dos registros existem um peso diferente que se conectam com os 16 neurônios da camada densa, assim como o neurônio bias implementado."
   ]
  },
  {
   "cell_type": "code",
   "execution_count": 39,
   "metadata": {
    "colab": {
     "base_uri": "https://localhost:8080/",
     "height": 53
    },
    "colab_type": "code",
    "id": "AKsYsqDX2anr",
    "outputId": "34024533-2c33-4780-e74d-e2aaf62f5509"
   },
   "outputs": [
    {
     "name": "stdout",
     "output_type": "stream",
     "text": [
      "(16, 1)\n",
      "(1,)\n"
     ]
    }
   ],
   "source": [
    "# visualizando os pesos da primeira camada densa\n",
    "pesos1 = classificador.layers[1].get_weights()\n",
    "# transformando a lista em um array numpy\n",
    "pesos1 = np.asarray(pesos1)\n",
    "# imprimindo os pesos de cada neurônio da camada densa\n",
    "print(pesos1[0].shape)\n",
    "# imprimindo os pesos do neurônio bias implementado pelo algoritmo\n",
    "print(pesos1[1].shape)"
   ]
  },
  {
   "cell_type": "markdown",
   "metadata": {
    "colab_type": "text",
    "id": "4UDnQ4gS24Xf"
   },
   "source": [
    "Observe que para cada um dos neurônios da camada densa a um peso que se conectam com um neurônio de saída, assim como o bias implementado na camada densa."
   ]
  },
  {
   "cell_type": "markdown",
   "metadata": {
    "colab_type": "text",
    "id": "kk6gpaGWslPL"
   },
   "source": [
    "Observe que a rede neural conseguiu classificar 94.84% dos dados de treinamento."
   ]
  },
  {
   "cell_type": "markdown",
   "metadata": {
    "colab_type": "text",
    "id": "Ri97nliGszCL"
   },
   "source": [
    "A rede neural inicia com os pesos indicando um erro muito alto, e termina com um erro mais baixo."
   ]
  },
  {
   "cell_type": "markdown",
   "metadata": {
    "colab_type": "text",
    "id": "HO2msohUtEeA"
   },
   "source": [
    "### Avaliando a Capacidade de Previsão da Rede Neural Artificial"
   ]
  },
  {
   "cell_type": "code",
   "execution_count": 25,
   "metadata": {
    "colab": {},
    "colab_type": "code",
    "id": "ET8XWwT6sk1J"
   },
   "outputs": [],
   "source": [
    "# realizando a predição com os dados de teste\n",
    "previsoes = classificador.predict(prev_test)"
   ]
  },
  {
   "cell_type": "code",
   "execution_count": 26,
   "metadata": {
    "colab": {
     "base_uri": "https://localhost:8080/",
     "height": 1000
    },
    "colab_type": "code",
    "id": "umt5pfQItsrb",
    "outputId": "58663e80-3fdb-447b-9bf9-1800171e6a1f"
   },
   "outputs": [
    {
     "name": "stdout",
     "output_type": "stream",
     "text": [
      "[[7.3834300e-02]\n",
      " [9.9339199e-01]\n",
      " [9.9581814e-01]\n",
      " [6.0816282e-01]\n",
      " [1.0000000e+00]\n",
      " [9.7623479e-01]\n",
      " [1.0000000e+00]\n",
      " [9.9551725e-01]\n",
      " [1.0000000e+00]\n",
      " [9.9999726e-01]\n",
      " [6.8063867e-01]\n",
      " [8.2249761e-01]\n",
      " [1.0000000e+00]\n",
      " [2.7091396e-01]\n",
      " [9.1690487e-01]\n",
      " [1.7346919e-02]\n",
      " [1.0000000e+00]\n",
      " [2.3794996e-07]\n",
      " [2.8357685e-02]\n",
      " [1.5947659e-14]\n",
      " [2.5851160e-02]\n",
      " [8.1124866e-01]\n",
      " [9.9573755e-01]\n",
      " [9.7955978e-01]\n",
      " [6.2270272e-01]\n",
      " [8.9941359e-01]\n",
      " [9.8625255e-01]\n",
      " [9.8872644e-01]\n",
      " [9.9599254e-01]\n",
      " [4.2041740e-10]\n",
      " [9.9766576e-01]\n",
      " [1.7536195e-11]\n",
      " [9.1778004e-01]\n",
      " [1.2663901e-03]\n",
      " [1.0000000e+00]\n",
      " [9.0932846e-04]\n",
      " [8.8793182e-01]\n",
      " [1.1771080e-05]\n",
      " [9.9429041e-01]\n",
      " [1.0337830e-03]\n",
      " [1.7322484e-01]\n",
      " [1.0000000e+00]\n",
      " [1.8643737e-03]\n",
      " [9.9656689e-01]\n",
      " [4.1336349e-01]\n",
      " [2.0287580e-16]\n",
      " [1.0000000e+00]\n",
      " [9.9238175e-01]\n",
      " [9.9984956e-01]\n",
      " [4.9100757e-02]\n",
      " [1.0000000e+00]\n",
      " [9.9945438e-01]\n",
      " [3.0710780e-07]\n",
      " [9.9952877e-01]\n",
      " [9.9216485e-01]\n",
      " [8.1826800e-01]\n",
      " [1.0000000e+00]\n",
      " [9.9986839e-01]\n",
      " [9.9775422e-01]\n",
      " [6.1751887e-19]\n",
      " [1.9811359e-01]\n",
      " [2.9730192e-05]\n",
      " [9.9986768e-01]\n",
      " [9.9366796e-01]\n",
      " [8.8235623e-07]\n",
      " [8.3749104e-01]\n",
      " [2.2473703e-12]\n",
      " [2.0032344e-06]\n",
      " [3.2925318e-10]\n",
      " [1.0000000e+00]\n",
      " [5.9489274e-01]\n",
      " [1.9668764e-08]\n",
      " [9.9310791e-01]\n",
      " [9.7127700e-01]\n",
      " [2.8476899e-07]\n",
      " [9.7919679e-01]\n",
      " [1.0000000e+00]\n",
      " [9.9472964e-01]\n",
      " [9.5658278e-01]\n",
      " [1.0000000e+00]\n",
      " [8.9475721e-02]\n",
      " [5.2505067e-05]\n",
      " [4.9871244e-07]\n",
      " [9.9534833e-01]\n",
      " [1.7176759e-01]\n",
      " [9.9715972e-01]\n",
      " [9.8073065e-01]\n",
      " [1.0000000e+00]\n",
      " [5.9908966e-06]\n",
      " [3.3746400e-13]\n",
      " [1.0000000e+00]\n",
      " [2.6541084e-01]\n",
      " [8.8140076e-01]\n",
      " [1.6436875e-03]\n",
      " [1.0000000e+00]\n",
      " [1.0000000e+00]\n",
      " [3.4632968e-13]\n",
      " [9.9657828e-01]\n",
      " [9.9897474e-01]\n",
      " [9.9800253e-01]\n",
      " [1.0000000e+00]\n",
      " [1.0000000e+00]\n",
      " [9.9976921e-01]\n",
      " [9.5442700e-01]\n",
      " [2.5372773e-07]\n",
      " [1.0000000e+00]\n",
      " [9.5942642e-06]\n",
      " [7.7402782e-01]\n",
      " [3.0357143e-01]\n",
      " [8.3326232e-01]\n",
      " [9.9774408e-01]\n",
      " [2.3307920e-02]\n",
      " [7.9517287e-07]\n",
      " [4.0110880e-01]\n",
      " [9.9856991e-01]\n",
      " [9.9999201e-01]\n",
      " [9.0926015e-01]\n",
      " [9.9997240e-01]\n",
      " [8.3473289e-01]\n",
      " [9.9855161e-01]\n",
      " [9.1813385e-01]\n",
      " [9.9873221e-01]\n",
      " [3.4198922e-01]\n",
      " [9.9612290e-01]\n",
      " [4.1202620e-07]\n",
      " [9.9969840e-01]\n",
      " [1.1784703e-02]\n",
      " [9.9826616e-01]\n",
      " [1.0000000e+00]\n",
      " [9.9338782e-01]\n",
      " [1.1192548e-06]\n",
      " [9.9988741e-01]\n",
      " [9.8356950e-01]\n",
      " [9.9916983e-01]\n",
      " [9.9813509e-01]\n",
      " [1.0000000e+00]\n",
      " [6.1062771e-01]\n",
      " [1.1688998e-01]\n",
      " [1.9023985e-16]\n",
      " [9.9688029e-01]\n",
      " [1.0000000e+00]\n",
      " [9.9941373e-01]\n",
      " [1.2971389e-14]]\n"
     ]
    }
   ],
   "source": [
    "# visualizando as predições obtidas pelo algoritmo\n",
    "print(previsoes)"
   ]
  },
  {
   "cell_type": "markdown",
   "metadata": {
    "colab_type": "text",
    "id": "1FrknGDityH3"
   },
   "source": [
    "Os resultados foram números próximos ou iguais a 0 e números próximos ou iguais a 1. Para as primeiras predições os resultados indicam que o câncer é benigno e para as segundas predições o algoritmo indicou o câncer como maligno."
   ]
  },
  {
   "cell_type": "code",
   "execution_count": 27,
   "metadata": {
    "colab": {},
    "colab_type": "code",
    "id": "_Fmxj0Vzub2S"
   },
   "outputs": [],
   "source": [
    "# criando uma lista booleana para configurar as previsões como 0 ou 1\n",
    "previsoes = (previsoes > 0.5)\n",
    "# definindo um limiar de 0.5 para analisar os dados"
   ]
  },
  {
   "cell_type": "markdown",
   "metadata": {
    "colab_type": "text",
    "id": "pcM_7Mn3uLYj"
   },
   "source": [
    "Vamos analisar a acurácia do algoritmo e uma matriz de confusão."
   ]
  },
  {
   "cell_type": "code",
   "execution_count": 28,
   "metadata": {
    "colab": {},
    "colab_type": "code",
    "id": "IRgtyPlivEf4"
   },
   "outputs": [],
   "source": [
    "# importando recursos do sklearn \n",
    "from sklearn.metrics import confusion_matrix, accuracy_score"
   ]
  },
  {
   "cell_type": "code",
   "execution_count": 29,
   "metadata": {
    "colab": {
     "base_uri": "https://localhost:8080/",
     "height": 35
    },
    "colab_type": "code",
    "id": "-ij3dM8RvPMn",
    "outputId": "68425a0d-18b8-4315-b5d2-6b931a003b7f"
   },
   "outputs": [
    {
     "name": "stdout",
     "output_type": "stream",
     "text": [
      "0.9230769230769231\n"
     ]
    }
   ],
   "source": [
    "# visualizando a precisão do algoritmo referente a base de dados de teste\n",
    "precisao = accuracy_score(classe_test, previsoes)\n",
    "print(precisao)"
   ]
  },
  {
   "cell_type": "markdown",
   "metadata": {
    "colab_type": "text",
    "id": "xp_Yb50Qvbhc"
   },
   "source": [
    "O algoritmo obteve uma precisão de 92.30%.\n"
   ]
  },
  {
   "cell_type": "code",
   "execution_count": 30,
   "metadata": {
    "colab": {
     "base_uri": "https://localhost:8080/",
     "height": 53
    },
    "colab_type": "code",
    "id": "Gy49g4Wfvi0L",
    "outputId": "115ceaca-6950-4f0a-c12a-62825e0e50ea"
   },
   "outputs": [
    {
     "name": "stdout",
     "output_type": "stream",
     "text": [
      "[[46  7]\n",
      " [ 4 86]]\n"
     ]
    }
   ],
   "source": [
    "# visualizando a matriz de confusão para os dados de teste\n",
    "matriz = confusion_matrix(classe_test, previsoes)\n",
    "print(matriz)"
   ]
  },
  {
   "cell_type": "markdown",
   "metadata": {
    "colab_type": "text",
    "id": "WDk-J3ZNvuur"
   },
   "source": [
    "Observe que 46 registros foram avaliados corretamente como câncer benigno, juntamente com 86 registros analisados como câncer maligno. Entretanto, 7 registros referentes a câncer benigno foram avaliados como maligno, assim como 4 registros de câncer maligno foram avaliados incorretamente como benignos."
   ]
  },
  {
   "cell_type": "code",
   "execution_count": 31,
   "metadata": {
    "colab": {
     "base_uri": "https://localhost:8080/",
     "height": 53
    },
    "colab_type": "code",
    "id": "9U-WeBaDwso7",
    "outputId": "d16ead34-7357-4caf-fbcd-95e729932493"
   },
   "outputs": [
    {
     "name": "stdout",
     "output_type": "stream",
     "text": [
      "143/143 [==============================] - 0s 125us/step\n",
      "[0.3743604321840343, 0.9230769276618958]\n"
     ]
    }
   ],
   "source": [
    "# analisando a acurâcia e a perda usando o keras\n",
    "resultado = classificador.evaluate(prev_test, classe_test)\n",
    "print(resultado)"
   ]
  },
  {
   "cell_type": "markdown",
   "metadata": {
    "colab_type": "text",
    "id": "l2Lc1PWTxIGx"
   },
   "source": [
    "### Alguma Dúvida? Entre em Contato Comigo:"
   ]
  },
  {
   "cell_type": "markdown",
   "metadata": {
    "colab_type": "text",
    "id": "MjZMTmJyxMNU"
   },
   "source": [
    "- [Me envie um e-mail](mailto:alysson.barbosa@ee.ufcg.edu.br);"
   ]
  }
 ],
 "metadata": {
  "colab": {
   "collapsed_sections": [],
   "name": "Programa 13 - Base de Dados Breast Cancer.ipynb",
   "provenance": [],
   "toc_visible": true
  },
  "kernelspec": {
   "display_name": "Python 3",
   "language": "python",
   "name": "python3"
  },
  "language_info": {
   "codemirror_mode": {
    "name": "ipython",
    "version": 3
   },
   "file_extension": ".py",
   "mimetype": "text/x-python",
   "name": "python",
   "nbconvert_exporter": "python",
   "pygments_lexer": "ipython3",
   "version": "3.7.4"
  }
 },
 "nbformat": 4,
 "nbformat_minor": 4
}
