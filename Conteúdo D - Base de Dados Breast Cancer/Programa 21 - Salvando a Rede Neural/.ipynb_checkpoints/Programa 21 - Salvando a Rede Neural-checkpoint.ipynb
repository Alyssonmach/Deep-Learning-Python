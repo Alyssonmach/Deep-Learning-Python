{
 "cells": [
  {
   "cell_type": "markdown",
   "metadata": {
    "colab_type": "text",
    "id": "p_ltbdvV1Lns"
   },
   "source": [
    "# Salvando a Rede Neural Artificial\n",
    "#### Após todos os detalhes da construção da rede neural artificial estiverem definidos, é possível salvar a rede neural para posterior uso."
   ]
  },
  {
   "cell_type": "markdown",
   "metadata": {
    "colab_type": "text",
    "id": "v_LK-Sqx1aQJ"
   },
   "source": [
    "### Importando as bibliotecas."
   ]
  },
  {
   "cell_type": "code",
   "execution_count": 1,
   "metadata": {
    "colab": {
     "base_uri": "https://localhost:8080/",
     "height": 35
    },
    "colab_type": "code",
    "id": "5SDCwK9M1KQd",
    "outputId": "ed3de485-a591-4ec8-e96b-80ee2245f94d"
   },
   "outputs": [
    {
     "name": "stderr",
     "output_type": "stream",
     "text": [
      "Using TensorFlow backend.\n"
     ]
    }
   ],
   "source": [
    "# importando as bibliotecas necessárias\n",
    "\n",
    "import pandas as pd\n",
    "import numpy as np\n",
    "from keras.models import Sequential\n",
    "from keras.layers import Dense, Dropout"
   ]
  },
  {
   "cell_type": "markdown",
   "metadata": {
    "colab_type": "text",
    "id": "htRZP_ng1jCQ"
   },
   "source": [
    "### Importando a Base de Dados"
   ]
  },
  {
   "cell_type": "code",
   "execution_count": 2,
   "metadata": {
    "colab": {},
    "colab_type": "code",
    "id": "rakJXkrz1kMI"
   },
   "outputs": [],
   "source": [
    "# separando os atributos previsores do meta\n",
    "previsores = pd.read_csv('entradas_breast.csv', \n",
    "                         encoding = 'utf-8', sep = ',')\n",
    "classe = pd.read_csv('saidas_breast.csv', \n",
    "                     encoding = 'utf-8', sep = ',')"
   ]
  },
  {
   "cell_type": "markdown",
   "metadata": {
    "colab_type": "text",
    "id": "o_w_pNF01nlY"
   },
   "source": [
    "### Configurando a Rede Neural Artificial"
   ]
  },
  {
   "cell_type": "code",
   "execution_count": 3,
   "metadata": {
    "colab": {},
    "colab_type": "code",
    "id": "E92Ea2GG1qXQ"
   },
   "outputs": [],
   "source": [
    "# criando o objeto 'classificador'\n",
    "classificador = Sequential()"
   ]
  },
  {
   "cell_type": "code",
   "execution_count": 4,
   "metadata": {
    "colab": {},
    "colab_type": "code",
    "id": "lbY-QML-1tWX"
   },
   "outputs": [],
   "source": [
    "# adicionando camadas de entrada, oculta e de saída, juntamente com o dropout\n",
    "\n",
    "classificador.add(Dense(units = 8, activation = 'relu', \n",
    "                        kernel_initializer = 'normal', input_dim = 30))\n",
    "classificador.add(Dropout(0.2))\n",
    "classificador.add(Dense(units = 8, activation = 'relu', \n",
    "                        kernel_initializer = 'normal'))\n",
    "classificador.add(Dropout(0.2))\n",
    "classificador.add(Dense(units = 1, activation = 'sigmoid' ))"
   ]
  },
  {
   "cell_type": "code",
   "execution_count": 5,
   "metadata": {
    "colab": {},
    "colab_type": "code",
    "id": "auJ5oxr71woy"
   },
   "outputs": [],
   "source": [
    "# definindo os parâmetros para fazer o melhor ajuste de pesos na rede neural\n",
    "classificador.compile(optimizer = 'adam', loss = 'binary_crossentropy',\n",
    "                      metrics = ['binary_accuracy'])"
   ]
  },
  {
   "cell_type": "markdown",
   "metadata": {
    "colab_type": "text",
    "id": "dv0SmNfh10xX"
   },
   "source": [
    "### Treinando a Rede Neural"
   ]
  },
  {
   "cell_type": "code",
   "execution_count": 6,
   "metadata": {
    "colab": {
     "base_uri": "https://localhost:8080/",
     "height": 1000
    },
    "colab_type": "code",
    "id": "XqZlw_nx1y0H",
    "outputId": "53f72306-1cca-464d-9c3f-b64cd0467f75"
   },
   "outputs": [
    {
     "name": "stdout",
     "output_type": "stream",
     "text": [
      "Epoch 1/100\n",
      "569/569 [==============================] - 0s 847us/step - loss: 3.3032 - binary_accuracy: 0.5712\n",
      "Epoch 2/100\n",
      "569/569 [==============================] - 0s 151us/step - loss: 0.8672 - binary_accuracy: 0.6046\n",
      "Epoch 3/100\n",
      "569/569 [==============================] - 0s 139us/step - loss: 0.6415 - binary_accuracy: 0.6221\n",
      "Epoch 4/100\n",
      "569/569 [==============================] - 0s 144us/step - loss: 0.6280 - binary_accuracy: 0.6204\n",
      "Epoch 5/100\n",
      "569/569 [==============================] - 0s 152us/step - loss: 0.6175 - binary_accuracy: 0.6186\n",
      "Epoch 6/100\n",
      "569/569 [==============================] - 0s 141us/step - loss: 0.6400 - binary_accuracy: 0.6239\n",
      "Epoch 7/100\n",
      "569/569 [==============================] - 0s 148us/step - loss: 0.5957 - binary_accuracy: 0.6204\n",
      "Epoch 8/100\n",
      "569/569 [==============================] - 0s 145us/step - loss: 0.5990 - binary_accuracy: 0.6204\n",
      "Epoch 9/100\n",
      "569/569 [==============================] - 0s 144us/step - loss: 0.5916 - binary_accuracy: 0.6292\n",
      "Epoch 10/100\n",
      "569/569 [==============================] - 0s 141us/step - loss: 0.5840 - binary_accuracy: 0.6274\n",
      "Epoch 11/100\n",
      "569/569 [==============================] - 0s 139us/step - loss: 0.5945 - binary_accuracy: 0.6134\n",
      "Epoch 12/100\n",
      "569/569 [==============================] - 0s 143us/step - loss: 0.5866 - binary_accuracy: 0.6274\n",
      "Epoch 13/100\n",
      "569/569 [==============================] - 0s 157us/step - loss: 0.5900 - binary_accuracy: 0.6309\n",
      "Epoch 14/100\n",
      "569/569 [==============================] - 0s 140us/step - loss: 0.5635 - binary_accuracy: 0.6274\n",
      "Epoch 15/100\n",
      "569/569 [==============================] - 0s 141us/step - loss: 0.5836 - binary_accuracy: 0.6239\n",
      "Epoch 16/100\n",
      "569/569 [==============================] - 0s 140us/step - loss: 0.5611 - binary_accuracy: 0.6239\n",
      "Epoch 17/100\n",
      "569/569 [==============================] - 0s 147us/step - loss: 0.5690 - binary_accuracy: 0.6309\n",
      "Epoch 18/100\n",
      "569/569 [==============================] - 0s 161us/step - loss: 0.5695 - binary_accuracy: 0.6292\n",
      "Epoch 19/100\n",
      "569/569 [==============================] - 0s 148us/step - loss: 0.5620 - binary_accuracy: 0.6292\n",
      "Epoch 20/100\n",
      "569/569 [==============================] - 0s 137us/step - loss: 0.5736 - binary_accuracy: 0.6274\n",
      "Epoch 21/100\n",
      "569/569 [==============================] - 0s 139us/step - loss: 0.5525 - binary_accuracy: 0.6292\n",
      "Epoch 22/100\n",
      "569/569 [==============================] - 0s 137us/step - loss: 0.5626 - binary_accuracy: 0.6292\n",
      "Epoch 23/100\n",
      "569/569 [==============================] - 0s 136us/step - loss: 0.5497 - binary_accuracy: 0.6327\n",
      "Epoch 24/100\n",
      "569/569 [==============================] - 0s 144us/step - loss: 0.5711 - binary_accuracy: 0.6186\n",
      "Epoch 25/100\n",
      "569/569 [==============================] - 0s 138us/step - loss: 0.5523 - binary_accuracy: 0.6221\n",
      "Epoch 26/100\n",
      "569/569 [==============================] - 0s 142us/step - loss: 0.5628 - binary_accuracy: 0.6239\n",
      "Epoch 27/100\n",
      "569/569 [==============================] - 0s 137us/step - loss: 0.5597 - binary_accuracy: 0.6274\n",
      "Epoch 28/100\n",
      "569/569 [==============================] - 0s 149us/step - loss: 0.5611 - binary_accuracy: 0.6257\n",
      "Epoch 29/100\n",
      "569/569 [==============================] - 0s 159us/step - loss: 0.5584 - binary_accuracy: 0.6257\n",
      "Epoch 30/100\n",
      "569/569 [==============================] - 0s 137us/step - loss: 0.5652 - binary_accuracy: 0.6257\n",
      "Epoch 31/100\n",
      "569/569 [==============================] - 0s 139us/step - loss: 0.5609 - binary_accuracy: 0.6257\n",
      "Epoch 32/100\n",
      "569/569 [==============================] - 0s 158us/step - loss: 0.5593 - binary_accuracy: 0.6274\n",
      "Epoch 33/100\n",
      "569/569 [==============================] - 0s 165us/step - loss: 0.5552 - binary_accuracy: 0.6221\n",
      "Epoch 34/100\n",
      "569/569 [==============================] - 0s 147us/step - loss: 0.5642 - binary_accuracy: 0.6274\n",
      "Epoch 35/100\n",
      "569/569 [==============================] - 0s 137us/step - loss: 0.5508 - binary_accuracy: 0.6309\n",
      "Epoch 36/100\n",
      "569/569 [==============================] - 0s 136us/step - loss: 0.5533 - binary_accuracy: 0.6169\n",
      "Epoch 37/100\n",
      "569/569 [==============================] - 0s 139us/step - loss: 0.5499 - binary_accuracy: 0.6257\n",
      "Epoch 38/100\n",
      "569/569 [==============================] - 0s 154us/step - loss: 0.5549 - binary_accuracy: 0.6239\n",
      "Epoch 39/100\n",
      "569/569 [==============================] - 0s 135us/step - loss: 0.5449 - binary_accuracy: 0.6766\n",
      "Epoch 40/100\n",
      "569/569 [==============================] - 0s 143us/step - loss: 0.5477 - binary_accuracy: 0.6819\n",
      "Epoch 41/100\n",
      "569/569 [==============================] - 0s 151us/step - loss: 0.5387 - binary_accuracy: 0.6924\n",
      "Epoch 42/100\n",
      "569/569 [==============================] - 0s 138us/step - loss: 0.5533 - binary_accuracy: 0.6415\n",
      "Epoch 43/100\n",
      "569/569 [==============================] - 0s 144us/step - loss: 0.5435 - binary_accuracy: 0.6819\n",
      "Epoch 44/100\n",
      "569/569 [==============================] - 0s 146us/step - loss: 0.5430 - binary_accuracy: 0.6626\n",
      "Epoch 45/100\n",
      "569/569 [==============================] - 0s 140us/step - loss: 0.5413 - binary_accuracy: 0.6591\n",
      "Epoch 46/100\n",
      "569/569 [==============================] - 0s 159us/step - loss: 0.5522 - binary_accuracy: 0.6643\n",
      "Epoch 47/100\n",
      "569/569 [==============================] - 0s 139us/step - loss: 0.5422 - binary_accuracy: 0.6591\n",
      "Epoch 48/100\n",
      "569/569 [==============================] - 0s 146us/step - loss: 0.5553 - binary_accuracy: 0.6327\n",
      "Epoch 49/100\n",
      "569/569 [==============================] - 0s 147us/step - loss: 0.5358 - binary_accuracy: 0.6450\n",
      "Epoch 50/100\n",
      "569/569 [==============================] - 0s 148us/step - loss: 0.5422 - binary_accuracy: 0.6643\n",
      "Epoch 51/100\n",
      "569/569 [==============================] - 0s 139us/step - loss: 0.5599 - binary_accuracy: 0.6661\n",
      "Epoch 52/100\n",
      "569/569 [==============================] - 0s 142us/step - loss: 0.5324 - binary_accuracy: 0.6766\n",
      "Epoch 53/100\n",
      "569/569 [==============================] - 0s 150us/step - loss: 0.5272 - binary_accuracy: 0.6872\n",
      "Epoch 54/100\n",
      "569/569 [==============================] - 0s 136us/step - loss: 0.5363 - binary_accuracy: 0.6520\n",
      "Epoch 55/100\n",
      "569/569 [==============================] - 0s 133us/step - loss: 0.5599 - binary_accuracy: 0.6450\n",
      "Epoch 56/100\n",
      "569/569 [==============================] - 0s 142us/step - loss: 0.5548 - binary_accuracy: 0.6608\n",
      "Epoch 57/100\n",
      "569/569 [==============================] - 0s 137us/step - loss: 0.5239 - binary_accuracy: 0.6872\n",
      "Epoch 58/100\n",
      "569/569 [==============================] - 0s 137us/step - loss: 0.5483 - binary_accuracy: 0.6819\n",
      "Epoch 59/100\n",
      "569/569 [==============================] - 0s 142us/step - loss: 0.5295 - binary_accuracy: 0.7030\n",
      "Epoch 60/100\n",
      "569/569 [==============================] - 0s 138us/step - loss: 0.5509 - binary_accuracy: 0.6591\n",
      "Epoch 61/100\n",
      "569/569 [==============================] - 0s 136us/step - loss: 0.5361 - binary_accuracy: 0.6714\n",
      "Epoch 62/100\n",
      "569/569 [==============================] - 0s 148us/step - loss: 0.5235 - binary_accuracy: 0.6872\n",
      "Epoch 63/100\n",
      "569/569 [==============================] - 0s 147us/step - loss: 0.5263 - binary_accuracy: 0.6749\n",
      "Epoch 64/100\n",
      "569/569 [==============================] - 0s 137us/step - loss: 0.5538 - binary_accuracy: 0.6503\n",
      "Epoch 65/100\n",
      "569/569 [==============================] - 0s 140us/step - loss: 0.5314 - binary_accuracy: 0.6854\n",
      "Epoch 66/100\n",
      "569/569 [==============================] - 0s 149us/step - loss: 0.5231 - binary_accuracy: 0.7118\n",
      "Epoch 67/100\n",
      "569/569 [==============================] - 0s 137us/step - loss: 0.5379 - binary_accuracy: 0.6942\n",
      "Epoch 68/100\n",
      "569/569 [==============================] - 0s 133us/step - loss: 0.5214 - binary_accuracy: 0.6960\n",
      "Epoch 69/100\n",
      "569/569 [==============================] - 0s 137us/step - loss: 0.5126 - binary_accuracy: 0.6995\n",
      "Epoch 70/100\n",
      "569/569 [==============================] - 0s 133us/step - loss: 0.5314 - binary_accuracy: 0.6889\n",
      "Epoch 71/100\n",
      "569/569 [==============================] - 0s 136us/step - loss: 0.5051 - binary_accuracy: 0.6995\n",
      "Epoch 72/100\n",
      "569/569 [==============================] - 0s 149us/step - loss: 0.5163 - binary_accuracy: 0.6819\n",
      "Epoch 73/100\n",
      "569/569 [==============================] - 0s 150us/step - loss: 0.5217 - binary_accuracy: 0.7170\n",
      "Epoch 74/100\n",
      "569/569 [==============================] - 0s 147us/step - loss: 0.5144 - binary_accuracy: 0.6854\n",
      "Epoch 75/100\n",
      "569/569 [==============================] - 0s 133us/step - loss: 0.5195 - binary_accuracy: 0.6854\n",
      "Epoch 76/100\n",
      "569/569 [==============================] - 0s 143us/step - loss: 0.5356 - binary_accuracy: 0.6731\n",
      "Epoch 77/100\n",
      "569/569 [==============================] - 0s 157us/step - loss: 0.5306 - binary_accuracy: 0.7047\n",
      "Epoch 78/100\n",
      "569/569 [==============================] - 0s 170us/step - loss: 0.5268 - binary_accuracy: 0.6801\n",
      "Epoch 79/100\n",
      "569/569 [==============================] - 0s 146us/step - loss: 0.4938 - binary_accuracy: 0.7030\n",
      "Epoch 80/100\n",
      "569/569 [==============================] - 0s 138us/step - loss: 0.5244 - binary_accuracy: 0.6889\n",
      "Epoch 81/100\n",
      "569/569 [==============================] - 0s 135us/step - loss: 0.5084 - binary_accuracy: 0.7135\n",
      "Epoch 82/100\n",
      "569/569 [==============================] - 0s 140us/step - loss: 0.5250 - binary_accuracy: 0.6766\n",
      "Epoch 83/100\n",
      "569/569 [==============================] - 0s 136us/step - loss: 0.5242 - binary_accuracy: 0.6960\n",
      "Epoch 84/100\n",
      "569/569 [==============================] - 0s 140us/step - loss: 0.5086 - binary_accuracy: 0.7047\n",
      "Epoch 85/100\n",
      "569/569 [==============================] - 0s 140us/step - loss: 0.5218 - binary_accuracy: 0.6924\n",
      "Epoch 86/100\n",
      "569/569 [==============================] - 0s 144us/step - loss: 0.5055 - binary_accuracy: 0.7047\n",
      "Epoch 87/100\n",
      "569/569 [==============================] - 0s 139us/step - loss: 0.5199 - binary_accuracy: 0.7083\n",
      "Epoch 88/100\n",
      "569/569 [==============================] - 0s 139us/step - loss: 0.5046 - binary_accuracy: 0.6995\n",
      "Epoch 89/100\n",
      "569/569 [==============================] - 0s 140us/step - loss: 0.5321 - binary_accuracy: 0.6784\n",
      "Epoch 90/100\n",
      "569/569 [==============================] - 0s 149us/step - loss: 0.5169 - binary_accuracy: 0.6872\n",
      "Epoch 91/100\n",
      "569/569 [==============================] - 0s 139us/step - loss: 0.5247 - binary_accuracy: 0.6907\n",
      "Epoch 92/100\n",
      "569/569 [==============================] - 0s 137us/step - loss: 0.5157 - binary_accuracy: 0.7364\n",
      "Epoch 93/100\n",
      "569/569 [==============================] - 0s 141us/step - loss: 0.4859 - binary_accuracy: 0.7206\n",
      "Epoch 94/100\n",
      "569/569 [==============================] - 0s 143us/step - loss: 0.5078 - binary_accuracy: 0.7065\n",
      "Epoch 95/100\n",
      "569/569 [==============================] - 0s 142us/step - loss: 0.5037 - binary_accuracy: 0.7206\n",
      "Epoch 96/100\n",
      "569/569 [==============================] - 0s 140us/step - loss: 0.4990 - binary_accuracy: 0.7047\n",
      "Epoch 97/100\n",
      "569/569 [==============================] - 0s 145us/step - loss: 0.5056 - binary_accuracy: 0.7258\n",
      "Epoch 98/100\n",
      "569/569 [==============================] - 0s 148us/step - loss: 0.4997 - binary_accuracy: 0.7750\n",
      "Epoch 99/100\n",
      "569/569 [==============================] - 0s 150us/step - loss: 0.5324 - binary_accuracy: 0.7786\n",
      "Epoch 100/100\n",
      "569/569 [==============================] - 0s 150us/step - loss: 0.4860 - binary_accuracy: 0.8067\n"
     ]
    },
    {
     "data": {
      "text/plain": [
       "<keras.callbacks.callbacks.History at 0x7f69b44a23c8>"
      ]
     },
     "execution_count": 6,
     "metadata": {
      "tags": []
     },
     "output_type": "execute_result"
    }
   ],
   "source": [
    "# treinando a rede neural\n",
    "classificador.fit(previsores, classe, batch_size = 10, epochs = 100)"
   ]
  },
  {
   "cell_type": "markdown",
   "metadata": {
    "colab_type": "text",
    "id": "pRs4Znhl19hu"
   },
   "source": [
    "### Salvando a Rede Neural"
   ]
  },
  {
   "cell_type": "code",
   "execution_count": 7,
   "metadata": {
    "colab": {},
    "colab_type": "code",
    "id": "kY_NCbZg1_xD"
   },
   "outputs": [],
   "source": [
    "# criando um classificador para salvar a rede neural\n",
    "classificador_json = classificador.to_json()"
   ]
  },
  {
   "cell_type": "code",
   "execution_count": 9,
   "metadata": {
    "colab": {},
    "colab_type": "code",
    "id": "IPRcE6-o2KPG"
   },
   "outputs": [],
   "source": [
    "# salvando as séries de parâmetros que configuram a rede neural\n",
    "with open('classificador_breast_json', 'w') as json_file:\n",
    "  json_file.write(classificador_json)\n",
    "\n",
    "# salvando os pesos obtidos no treinamento da rede neural\n",
    "classificador.save_weights('classificador_breast.h5')"
   ]
  },
  {
   "cell_type": "markdown",
   "metadata": {
    "colab_type": "text",
    "id": "ZY36GPeI3Esz"
   },
   "source": [
    "### Alguma Dúvida? Entre em Contato Comigo:"
   ]
  },
  {
   "cell_type": "markdown",
   "metadata": {
    "colab_type": "text",
    "id": "Y0zF-5Y43Is_"
   },
   "source": [
    "- [Me envie um e-mail](mailto:alysson.barbosa@ee.ufcg.edu.br);"
   ]
  }
 ],
 "metadata": {
  "colab": {
   "collapsed_sections": [],
   "name": "Untitled11.ipynb",
   "provenance": []
  },
  "kernelspec": {
   "display_name": "Python 3",
   "language": "python",
   "name": "python3"
  },
  "language_info": {
   "codemirror_mode": {
    "name": "ipython",
    "version": 3
   },
   "file_extension": ".py",
   "mimetype": "text/x-python",
   "name": "python",
   "nbconvert_exporter": "python",
   "pygments_lexer": "ipython3",
   "version": "3.7.4"
  }
 },
 "nbformat": 4,
 "nbformat_minor": 4
}
