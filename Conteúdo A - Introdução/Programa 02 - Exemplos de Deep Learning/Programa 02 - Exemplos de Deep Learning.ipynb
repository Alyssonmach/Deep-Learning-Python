{
 "cells": [
  {
   "cell_type": "markdown",
   "metadata": {},
   "source": [
    "# Aplicações de Deep Learning\n",
    "#### Principais aplicações de Deep Learning na prática."
   ]
  },
  {
   "cell_type": "markdown",
   "metadata": {},
   "source": [
    "Abaixo, é possível conferir as principais aplicações da área de **Deep Learning**, essa que possui o foco na contrução de **Redes Neurais Artificiais** mais complexas para resolver problemas da vida real."
   ]
  },
  {
   "cell_type": "markdown",
   "metadata": {},
   "source": [
    "- classificação de objetos;\n",
    "- identificação de imagens;\n",
    "- geração de legendas através de texto;\n",
    "- tradução automática de áudio;\n",
    "- otimização do uso de energia;\n",
    "- identificação de doenças;\n",
    "- identificação de plantas;\n",
    "- carros autônomos;\n",
    "- aplicação em jogos;\n",
    "- geração automática de músicas;\n",
    "- criação de roteiros de filmes;\n",
    "- geração de imagens automáticas;"
   ]
  },
  {
   "cell_type": "markdown",
   "metadata": {},
   "source": [
    "Vale a pena salientar que as redes neurais datam de 1950, mas a sua ascensão nos dias atuais se dá pelo fato de que a sua implementação exige poder computacional alto e muitos dados disponíveis para serem analisados. Com a explosão atual de grandes tecnologias, juntamente com o barateamento de custos, em conjunto com a atual era **Big Data** que vivemos, fica fácil entender o motivo pelo qual só recentemente que as redes neurais artificiais estão sendo aprimoradas e usadas com mais frequência em nosso cotidiano."
   ]
  },
  {
   "cell_type": "markdown",
   "metadata": {},
   "source": [
    "### Alguma Dúvida? Entre em Contato Comigo:"
   ]
  },
  {
   "cell_type": "markdown",
   "metadata": {},
   "source": [
    "- [Me envie um e-mail](mailto:alysson.barbosa@ee.ufcg.edu.br);"
   ]
  }
 ],
 "metadata": {
  "kernelspec": {
   "display_name": "Python 3",
   "language": "python",
   "name": "python3"
  },
  "language_info": {
   "codemirror_mode": {
    "name": "ipython",
    "version": 3
   },
   "file_extension": ".py",
   "mimetype": "text/x-python",
   "name": "python",
   "nbconvert_exporter": "python",
   "pygments_lexer": "ipython3",
   "version": "3.7.4"
  }
 },
 "nbformat": 4,
 "nbformat_minor": 4
}
