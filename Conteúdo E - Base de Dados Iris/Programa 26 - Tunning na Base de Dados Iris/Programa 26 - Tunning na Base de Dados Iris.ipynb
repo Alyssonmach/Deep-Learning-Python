{
 "cells": [
  {
   "cell_type": "markdown",
   "metadata": {
    "colab_type": "text",
    "id": "JBvkO-RZtlQO"
   },
   "source": [
    "# Tunning na Base de Dados Iris\n",
    "#### Realizando tunning para descobrir os melhores parâmetros na base de dados iris."
   ]
  },
  {
   "cell_type": "markdown",
   "metadata": {
    "colab_type": "text",
    "id": "31wRdeuXty6G"
   },
   "source": [
    "### Importando as Bibliotecas Necessárias"
   ]
  },
  {
   "cell_type": "code",
   "execution_count": 1,
   "metadata": {
    "colab": {
     "base_uri": "https://localhost:8080/",
     "height": 34
    },
    "colab_type": "code",
    "id": "3Pl-0r48teZh",
    "outputId": "57ae0a9d-9aed-40d0-8fbe-c463f8a9e7c0"
   },
   "outputs": [
    {
     "name": "stderr",
     "output_type": "stream",
     "text": [
      "Using TensorFlow backend.\n"
     ]
    }
   ],
   "source": [
    "# importando as bibliotecas do python necessárias para construção e análise da rede neural\n",
    "import pandas as pd\n",
    "from keras.models import Sequential\n",
    "from keras.layers import Dense, Dropout\n",
    "from keras.wrappers.scikit_learn import KerasClassifier\n",
    "from sklearn.model_selection import GridSearchCV\n",
    "from sklearn.preprocessing import LabelEncoder"
   ]
  },
  {
   "cell_type": "markdown",
   "metadata": {
    "colab_type": "text",
    "id": "WECDEq-Ut79O"
   },
   "source": [
    "### Separando os Atributos Previsores e Meta"
   ]
  },
  {
   "cell_type": "code",
   "execution_count": 2,
   "metadata": {
    "colab": {},
    "colab_type": "code",
    "id": "2Pcqo6mAt9oI"
   },
   "outputs": [],
   "source": [
    "# importando os dados no dataframe\n",
    "dataframe = pd.read_csv('iris.csv')\n",
    "# separando os atributos previsores e meta\n",
    "previsores = dataframe.iloc[:, 0:4].values\n",
    "classe = dataframe.iloc[:, 4].values\n",
    "# criando o objeto 'labelenconder'\n",
    "labelencoder = LabelEncoder()\n",
    "# realizando o escalonamento nos atributos meta\n",
    "classe = labelencoder.fit_transform(classe)"
   ]
  },
  {
   "cell_type": "markdown",
   "metadata": {},
   "source": [
    "![exemplos-iris](Imagens/exemplos-iris.jpg)"
   ]
  },
  {
   "cell_type": "markdown",
   "metadata": {},
   "source": [
    "![data-iris](Imagens/data-iris.png)"
   ]
  },
  {
   "cell_type": "markdown",
   "metadata": {
    "colab_type": "text",
    "id": "BDcZsQngufkb"
   },
   "source": [
    "### Configurando a Rede Neural"
   ]
  },
  {
   "cell_type": "code",
   "execution_count": 3,
   "metadata": {
    "colab": {},
    "colab_type": "code",
    "id": "LMje5vEDug2L"
   },
   "outputs": [],
   "source": [
    "# criando a rede neural artificial\n",
    "def neural_network_config(optimizer, kernel_initializer, activation, neurons, dropout):\n",
    "\n",
    "  # criando o classificador do tipo rede neural multicamada sequencial\n",
    "  classificador = Sequential()\n",
    "  # adicionando a primeira camada e a camada oculta na rede neural\n",
    "  classificador.add(Dense(units = neurons, activation = activation, \n",
    "                          kernel_initializer = kernel_initializer, \n",
    "                          input_dim = 4))\n",
    "  # adicionando uma camada de dropout\n",
    "  classificador.add(Dropout(dropout))\n",
    "  # adicionando uma segunda camada oculta\n",
    "  classificador.add(Dense(units = neurons, activation = activation, \n",
    "                          kernel_initializer = kernel_initializer))\n",
    "  # adicionando uma camada de dropout\n",
    "  classificador.add(Dropout(dropout))\n",
    "  # adicionando uma camada de saída\n",
    "  classificador.add(Dense(units = 3, activation = 'softmax'))\n",
    "  # configurando os parâmetros para melhor ajustes de pesos\n",
    "  classificador.compile(optimizer = optimizer, \n",
    "                          loss = 'sparse_categorical_crossentropy', \n",
    "                          metrics = ['accuracy'])\n",
    "  return classificador"
   ]
  },
  {
   "cell_type": "markdown",
   "metadata": {},
   "source": [
    "![rede-neural](Imagens/rede-neural.PNG)"
   ]
  },
  {
   "cell_type": "code",
   "execution_count": 4,
   "metadata": {
    "colab": {},
    "colab_type": "code",
    "id": "qmvWbNbWvUcX"
   },
   "outputs": [],
   "source": [
    "# configurando os parâmetros finais de treinamento da rede neural\n",
    "classificador = KerasClassifier(build_fn = neural_network_config, verbose = False)"
   ]
  },
  {
   "cell_type": "code",
   "execution_count": 5,
   "metadata": {
    "colab": {},
    "colab_type": "code",
    "id": "FgQSlGQOvZU9"
   },
   "outputs": [],
   "source": [
    "# criando um dicionário com alguns parâmetros a serem testados pelo tunning\n",
    "parametros = {'batch_size': [10, 30],\n",
    "              'epochs': [2000, 3000],\n",
    "              'dropout': [0.2, 0.3],\n",
    "              'optimizer': ['adam', 'sgd'],\n",
    "              'kernel_initializer': ['random_uniform', 'normal'],\n",
    "              'activation': ['relu', 'tanh', 'sigmoid'],\n",
    "              'neurons': [4, 8, 16]}"
   ]
  },
  {
   "cell_type": "code",
   "execution_count": 6,
   "metadata": {
    "colab": {},
    "colab_type": "code",
    "id": "e4stD70Ax5JJ"
   },
   "outputs": [],
   "source": [
    "# realizando um teste com os parâmetros usando tunning\n",
    "grid_search = GridSearchCV(estimator = classificador, param_grid = parametros,                           \n",
    "                           cv = 2)"
   ]
  },
  {
   "cell_type": "code",
   "execution_count": 7,
   "metadata": {
    "colab": {},
    "colab_type": "code",
    "id": "fklbxAxdyBOt"
   },
   "outputs": [],
   "source": [
    "# realizando o treinamento para obter os melhores parâmetros\n",
    "grid_search = grid_search.fit(previsores, classe)"
   ]
  },
  {
   "cell_type": "code",
   "execution_count": 12,
   "metadata": {
    "colab": {},
    "colab_type": "code",
    "id": "avREtB-4yGdH"
   },
   "outputs": [],
   "source": [
    "# observandos os melhores parâmetros obtidos\n",
    "melhores_parametros = grid_search.best_params_"
   ]
  },
  {
   "cell_type": "code",
   "execution_count": 13,
   "metadata": {
    "colab": {},
    "colab_type": "code",
    "id": "mx7k6GmqyMYF"
   },
   "outputs": [],
   "source": [
    "# observando as melhores precisões obtidas com os parâmetros acima\n",
    "melhores_precisao = grid_search.best_score_"
   ]
  },
  {
   "cell_type": "code",
   "execution_count": 14,
   "metadata": {
    "colab": {
     "base_uri": "https://localhost:8080/",
     "height": 54
    },
    "colab_type": "code",
    "id": "M5zhnBA8yN_H",
    "outputId": "d57131ba-04bb-4499-ebed-5f71c4d760da"
   },
   "outputs": [
    {
     "name": "stdout",
     "output_type": "stream",
     "text": [
      "{'activation': 'relu', 'batch_size': 10, 'dropout': 0.2, 'epochs': 3000, 'kernel_initializer': 'normal', 'neurons': 16, 'optimizer': 'sgd'}\n"
     ]
    }
   ],
   "source": [
    "# visualizando os melhores parâmetros obtidos pelo tunning\n",
    "print(melhores_parametros)"
   ]
  },
  {
   "cell_type": "code",
   "execution_count": 15,
   "metadata": {
    "colab": {
     "base_uri": "https://localhost:8080/",
     "height": 34
    },
    "colab_type": "code",
    "id": "cVcqPMqayVbd",
    "outputId": "5dd2dd91-1752-4d0d-a710-89b48001284d"
   },
   "outputs": [
    {
     "name": "stdout",
     "output_type": "stream",
     "text": [
      "0.6666666716337204\n"
     ]
    }
   ],
   "source": [
    "# visualizando a melhor precisão obtida com os parâmetros acima\n",
    "print(melhores_precisao)"
   ]
  },
  {
   "cell_type": "markdown",
   "metadata": {
    "colab_type": "text",
    "id": "x1lc5rc8Br-r"
   },
   "source": [
    "### Alguma Dúvida? Entre em Contato Comigo:"
   ]
  },
  {
   "cell_type": "markdown",
   "metadata": {
    "colab_type": "text",
    "id": "iubWqskbBwSW"
   },
   "source": [
    "- [Me envie um e-mail](mailto:alysson.barbosa@ee.ufcg.edu.br);"
   ]
  }
 ],
 "metadata": {
  "colab": {
   "name": "Programa 26 - Tunning na Base de Dados Iris.ipynb",
   "provenance": [],
   "toc_visible": true
  },
  "kernelspec": {
   "display_name": "Python 3",
   "language": "python",
   "name": "python3"
  },
  "language_info": {
   "codemirror_mode": {
    "name": "ipython",
    "version": 3
   },
   "file_extension": ".py",
   "mimetype": "text/x-python",
   "name": "python",
   "nbconvert_exporter": "python",
   "pygments_lexer": "ipython3",
   "version": "3.7.4"
  }
 },
 "nbformat": 4,
 "nbformat_minor": 4
}
