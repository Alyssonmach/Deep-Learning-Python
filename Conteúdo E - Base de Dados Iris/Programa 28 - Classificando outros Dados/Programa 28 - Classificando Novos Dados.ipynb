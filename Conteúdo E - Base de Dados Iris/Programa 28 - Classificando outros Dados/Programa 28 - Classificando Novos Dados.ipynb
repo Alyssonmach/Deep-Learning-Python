{
 "cells": [
  {
   "cell_type": "markdown",
   "metadata": {
    "colab_type": "text",
    "id": "BvYGtLerKVxq"
   },
   "source": [
    "# Classificando Novos Dados Base Iris\n",
    "#### Usando o classificador salvo para classificar novos dados."
   ]
  },
  {
   "cell_type": "markdown",
   "metadata": {
    "colab_type": "text",
    "id": "UHXQQORoKtR2"
   },
   "source": [
    "### Importando as Bibliotecas"
   ]
  },
  {
   "cell_type": "code",
   "execution_count": 1,
   "metadata": {
    "colab": {
     "base_uri": "https://localhost:8080/",
     "height": 34
    },
    "colab_type": "code",
    "id": "Pd-Js5ZfKwX_",
    "outputId": "5f9ba950-de69-4bf4-c695-a66a9a754a9a"
   },
   "outputs": [
    {
     "name": "stderr",
     "output_type": "stream",
     "text": [
      "Using TensorFlow backend.\n"
     ]
    }
   ],
   "source": [
    "# Importando as bibliotecas do python\n",
    "import numpy as np\n",
    "import pandas as pd\n",
    "from keras.models import model_from_json"
   ]
  },
  {
   "cell_type": "markdown",
   "metadata": {
    "colab_type": "text",
    "id": "NKIbVLfsLAPA"
   },
   "source": [
    "### Carregando os Classificadores Salvos"
   ]
  },
  {
   "cell_type": "code",
   "execution_count": 2,
   "metadata": {
    "colab": {},
    "colab_type": "code",
    "id": "ZfyKBklFLBga"
   },
   "outputs": [],
   "source": [
    "# carregando o arquivo com as configurações da rede neural\n",
    "arquivo = open('classificador_iris.json', 'r')\n",
    "\n",
    "# carregando os parâmetros da rede neural\n",
    "estrutura_classificador = arquivo.read()\n",
    "\n",
    "# fechando o arquivo para não ocupar muito espaço na memória\n",
    "arquivo.close()"
   ]
  },
  {
   "cell_type": "code",
   "execution_count": 3,
   "metadata": {
    "colab": {},
    "colab_type": "code",
    "id": "hLvAkiVELjmW"
   },
   "outputs": [],
   "source": [
    "# carregando o classificador\n",
    "classificador_carregado = model_from_json(estrutura_classificador)"
   ]
  },
  {
   "cell_type": "code",
   "execution_count": 4,
   "metadata": {
    "colab": {},
    "colab_type": "code",
    "id": "_d3rmi0-LtdP"
   },
   "outputs": [],
   "source": [
    "# carregando os pesos da rede neural\n",
    "classificador_carregado.load_weights(\"classificador_iris.h5\")"
   ]
  },
  {
   "cell_type": "markdown",
   "metadata": {
    "colab_type": "text",
    "id": "_tMoV6c7LztH"
   },
   "source": [
    "### Testando a Rede Neural Carregada"
   ]
  },
  {
   "cell_type": "code",
   "execution_count": 5,
   "metadata": {
    "colab": {},
    "colab_type": "code",
    "id": "ZjCu6YoYLxtH"
   },
   "outputs": [],
   "source": [
    "# criando um novo registro\n",
    "novo = np.array([[3.2, 4.5, 0.9, 1.1]])"
   ]
  },
  {
   "cell_type": "code",
   "execution_count": 7,
   "metadata": {
    "colab": {},
    "colab_type": "code",
    "id": "f3EnzropL63U"
   },
   "outputs": [],
   "source": [
    "# obtendo a previsão do classificador para o novo dado\n",
    "previsao = classificador_carregado.predict(novo)\n",
    "# definindo um limiar de confiabilidade na previsão feita\n",
    "previsao = (previsao > 0.5)"
   ]
  },
  {
   "cell_type": "code",
   "execution_count": 8,
   "metadata": {
    "colab": {
     "base_uri": "https://localhost:8080/",
     "height": 34
    },
    "colab_type": "code",
    "id": "FE3WrG-NMQ-V",
    "outputId": "41b99cd1-23f6-4564-c103-a70ac34fe7f4"
   },
   "outputs": [
    {
     "name": "stdout",
     "output_type": "stream",
     "text": [
      "[[ True False False]]\n"
     ]
    }
   ],
   "source": [
    "# observando a previsão obtida pelo algoritmo\n",
    "print(previsao)"
   ]
  },
  {
   "cell_type": "code",
   "execution_count": 9,
   "metadata": {
    "colab": {
     "base_uri": "https://localhost:8080/",
     "height": 34
    },
    "colab_type": "code",
    "id": "vvhw_HZmMXWf",
    "outputId": "822f6598-af08-4a03-cbdf-cc54bfb2ebec"
   },
   "outputs": [
    {
     "name": "stdout",
     "output_type": "stream",
     "text": [
      "Iris setosa\n"
     ]
    }
   ],
   "source": [
    "# fazendo um melhor tratamento na saída de dados\n",
    "if previsao[0][0] == True and previsao[0][1] == False and previsao[0][2] == False:\n",
    "    print('Iris setosa')\n",
    "elif previsao[0][0] == False and previsao[0][1] == True and previsao[0][2] == False:\n",
    "    print('Iris virginica')\n",
    "elif previsao[0][0] == False and previsao[0][1] == False and previsao[0][2] == True:\n",
    "    print('Iris versicolor')"
   ]
  },
  {
   "cell_type": "markdown",
   "metadata": {},
   "source": [
    "![exemplos-iris](Imagens/exemplos-iris.jpg)"
   ]
  },
  {
   "cell_type": "markdown",
   "metadata": {},
   "source": [
    "![data-iris](Imagens/data-iris.png)"
   ]
  },
  {
   "cell_type": "markdown",
   "metadata": {
    "colab_type": "text",
    "id": "_awTrpTEMimm"
   },
   "source": [
    "O classificador classificou o novo registro como **Iris setosa**."
   ]
  },
  {
   "cell_type": "code",
   "execution_count": 11,
   "metadata": {
    "colab": {},
    "colab_type": "code",
    "id": "67x7qg8iNEkg"
   },
   "outputs": [],
   "source": [
    "# importando a biblioteca sklearn do python\n",
    "from keras.utils import np_utils\n",
    "from sklearn.preprocessing import LabelEncoder"
   ]
  },
  {
   "cell_type": "code",
   "execution_count": 12,
   "metadata": {
    "colab": {},
    "colab_type": "code",
    "id": "Xiz26peBMr_I"
   },
   "outputs": [],
   "source": [
    "# importando os dados no 'dataframe'\n",
    "dataframe = pd.read_csv('iris.csv', encoding = 'utf-8', \n",
    "                        sep = ',')\n",
    "# separando os atributos previsores e meta da base de dados\n",
    "previsores = dataframe.iloc[:, 0:4].values\n",
    "classe = dataframe.iloc[:, 4].values\n",
    "\n",
    "# criando o objeto 'labelencoder'\n",
    "labelencoder = LabelEncoder()\n",
    "\n",
    "# realizando o escalonamento dos atributos meta\n",
    "classe = labelencoder.fit_transform(classe)\n",
    "\n",
    "# transformando as variáveis numéricas em variáveis do tipo dummy\n",
    "classe_dummy = np_utils.to_categorical(classe)"
   ]
  },
  {
   "cell_type": "code",
   "execution_count": 14,
   "metadata": {
    "colab": {},
    "colab_type": "code",
    "id": "S7ZoRpyLNL1o"
   },
   "outputs": [],
   "source": [
    "# configurando alguns parâmetros da rede neural\n",
    "classificador_carregado.compile(optimizer = 'adam', loss = 'categorical_crossentropy',\n",
    "                      metrics = ['accuracy'])"
   ]
  },
  {
   "cell_type": "markdown",
   "metadata": {},
   "source": [
    "![rede-neural](Imagens/rede-neural.PNG)"
   ]
  },
  {
   "cell_type": "code",
   "execution_count": 16,
   "metadata": {
    "colab": {
     "base_uri": "https://localhost:8080/",
     "height": 51
    },
    "colab_type": "code",
    "id": "JGZFhtSVNZVh",
    "outputId": "fee8e6af-9638-468d-8c31-ecb598744b13"
   },
   "outputs": [
    {
     "name": "stdout",
     "output_type": "stream",
     "text": [
      "150/150 [==============================] - 0s 737us/step\n"
     ]
    },
    {
     "data": {
      "text/plain": [
       "[0.09821771065394083, 0.9666666388511658]"
      ]
     },
     "execution_count": 16,
     "metadata": {
      "tags": []
     },
     "output_type": "execute_result"
    }
   ],
   "source": [
    "# obtendo a acurácia da rede e a perda\n",
    "classificador_carregado.evaluate(previsores, classe_dummy)"
   ]
  },
  {
   "cell_type": "markdown",
   "metadata": {
    "colab_type": "text",
    "id": "ekCG9BpxNfcv"
   },
   "source": [
    "Observe que o desempenho da rede neural foi análogo ao que foi obtido durante o treinamento. Desse modo, provamos que o carregamento de classificador é eficaz e proveitoso."
   ]
  },
  {
   "cell_type": "markdown",
   "metadata": {
    "colab_type": "text",
    "id": "RhyUjcEoNlYl"
   },
   "source": [
    "### Alguma Dúvida? Entre em Contato Comigo:"
   ]
  },
  {
   "cell_type": "markdown",
   "metadata": {
    "colab_type": "text",
    "id": "-LKRQH-fNqkQ"
   },
   "source": [
    "- [Me envie um e-mail](mailto:alysson.barbosa@ee.ufcg.edu.br);"
   ]
  }
 ],
 "metadata": {
  "colab": {
   "name": "Programa 28 - Classificando Novos Dados.ipynb",
   "provenance": [],
   "toc_visible": true
  },
  "kernelspec": {
   "display_name": "Python 3",
   "language": "python",
   "name": "python3"
  },
  "language_info": {
   "codemirror_mode": {
    "name": "ipython",
    "version": 3
   },
   "file_extension": ".py",
   "mimetype": "text/x-python",
   "name": "python",
   "nbconvert_exporter": "python",
   "pygments_lexer": "ipython3",
   "version": "3.7.4"
  }
 },
 "nbformat": 4,
 "nbformat_minor": 4
}
