{
 "cells": [
  {
   "cell_type": "markdown",
   "metadata": {
    "colab_type": "text",
    "id": "eRgekVlUUo0Z"
   },
   "source": [
    "# Validação Cruzada na Base de Dados Iris\n",
    "#### Usando validação cruzada na base de dados iris para obter uma acurácia mais confiável."
   ]
  },
  {
   "cell_type": "markdown",
   "metadata": {
    "colab_type": "text",
    "id": "ypT8yxVNU3sT"
   },
   "source": [
    "### Importando as Bibliotecas"
   ]
  },
  {
   "cell_type": "code",
   "execution_count": 1,
   "metadata": {
    "colab": {
     "base_uri": "https://localhost:8080/",
     "height": 34
    },
    "colab_type": "code",
    "id": "REOpmBFoUjk8",
    "outputId": "853d484d-6f3d-402e-c681-61b3bf38f065"
   },
   "outputs": [
    {
     "name": "stderr",
     "output_type": "stream",
     "text": [
      "Using TensorFlow backend.\n"
     ]
    }
   ],
   "source": [
    "# importando as bibliotecas do python\n",
    "import pandas as pd\n",
    "import numpy as np\n",
    "from sklearn.preprocessing import LabelEncoder\n",
    "from keras.models import Sequential\n",
    "from keras.layers import Dense\n",
    "from keras.utils import np_utils\n",
    "from keras.wrappers.scikit_learn import KerasClassifier\n",
    "from sklearn.model_selection import cross_val_score"
   ]
  },
  {
   "cell_type": "markdown",
   "metadata": {
    "colab_type": "text",
    "id": "zl3wQjOTVWLb"
   },
   "source": [
    "### Importação e Pré-processamendo dos Dados"
   ]
  },
  {
   "cell_type": "code",
   "execution_count": 4,
   "metadata": {
    "colab": {},
    "colab_type": "code",
    "id": "GxQTYLc_Vakb"
   },
   "outputs": [],
   "source": [
    "# importando os dados no dataframe\n",
    "dataframe = pd.read_csv('iris.csv', encoding = 'utf-8', sep = ',')\n",
    "\n",
    "# separando os atributos previsores e meta do dataframe\n",
    "previsores = dataframe.iloc[:, 0:4].values\n",
    "classe = dataframe.iloc[:, 4].values\n",
    "\n",
    "# criando o objeto 'labelencoder'\n",
    "labelencoder = LabelEncoder()\n",
    "# realizando o escalonamento nos atributos meta\n",
    "classe = labelencoder.fit_transform(classe)\n",
    "# transformando as variáveis numéricas em variáveis do tipo dummy\n",
    "classe_dummy = np_utils.to_categorical(classe)\n",
    "\n"
   ]
  },
  {
   "cell_type": "markdown",
   "metadata": {
    "colab_type": "text",
    "id": "yoRKzFE_VnlS"
   },
   "source": [
    "### Configuração da Rede Neural"
   ]
  },
  {
   "cell_type": "code",
   "execution_count": 5,
   "metadata": {
    "colab": {},
    "colab_type": "code",
    "id": "HZtiJkUxVqoj"
   },
   "outputs": [],
   "source": [
    "# função que cria as configurações da rede neural\n",
    "def neural_network_config():\n",
    "    \n",
    "    # criando o classificador do tipo rede neural multicamada sequencial\n",
    "    classificador = Sequential()\n",
    "    # adicionando a primeira camada e a camada oculta na rede neural\n",
    "    classificador.add(Dense(units = 4, activation = 'relu', input_dim = 4))\n",
    "    # adicionando uma segunda camada oculta\n",
    "    classificador.add(Dense(units = 4, activation = 'relu'))\n",
    "    # adicionando uma camada de saída\n",
    "    classificador.add(Dense(units = 3, activation = 'softmax', input_dim = 4))\n",
    "    \n",
    "    # configurando os parâmetros para melhor ajustes de pesos\n",
    "    classificador.compile(optimizer = 'adam', loss = 'categorical_crossentropy', \n",
    "                          metrics = ['categorical_accuracy'])\n",
    "  \n",
    "    # função retorna o classificador\n",
    "    return classificador"
   ]
  },
  {
   "cell_type": "code",
   "execution_count": 7,
   "metadata": {
    "colab": {},
    "colab_type": "code",
    "id": "VeEUOGVJV7jG"
   },
   "outputs": [],
   "source": [
    "# definindo algumas configurações da rede neural\n",
    "classificador = KerasClassifier(build_fn = neural_network_config, \n",
    "                                epochs = 1000, batch_size = 10, verbose = False)"
   ]
  },
  {
   "cell_type": "markdown",
   "metadata": {
    "colab_type": "text",
    "id": "jN0wgrwdWJQd"
   },
   "source": [
    "### Validação Cruzada com a Rede Neural"
   ]
  },
  {
   "cell_type": "code",
   "execution_count": 8,
   "metadata": {
    "colab": {},
    "colab_type": "code",
    "id": "Aoz6CVvGWNZn"
   },
   "outputs": [],
   "source": [
    "# realizando a validação cruxada ba base de dados iris\n",
    "resultados = cross_val_score(estimator = classificador, X = previsores,\n",
    "                             y = classe, cv = 10, scoring = 'accuracy')"
   ]
  },
  {
   "cell_type": "code",
   "execution_count": 9,
   "metadata": {
    "colab": {
     "base_uri": "https://localhost:8080/",
     "height": 51
    },
    "colab_type": "code",
    "id": "vOZTHcn9agtG",
    "outputId": "8411b5de-e2a2-4da3-a047-884482aab0b2"
   },
   "outputs": [
    {
     "data": {
      "text/plain": [
       "array([1.        , 1.        , 1.        , 0.        , 0.86666667,\n",
       "       0.93333333, 1.        , 1.        , 0.8       , 1.        ])"
      ]
     },
     "execution_count": 9,
     "metadata": {
      "tags": []
     },
     "output_type": "execute_result"
    }
   ],
   "source": [
    "# visualizando os resultados obtidos\n",
    "print(resultados)"
   ]
  },
  {
   "cell_type": "code",
   "execution_count": 10,
   "metadata": {
    "colab": {
     "base_uri": "https://localhost:8080/",
     "height": 34
    },
    "colab_type": "code",
    "id": "Su3evkoAabiJ",
    "outputId": "d62f90bb-f7ff-4055-e84e-6b3ee61b6f2b"
   },
   "outputs": [
    {
     "name": "stdout",
     "output_type": "stream",
     "text": [
      "0.86\n"
     ]
    }
   ],
   "source": [
    "# obtendo o resultado médio de todos os testes da validação cruzada\n",
    "media = resultados.mean()\n",
    "# visualizando os dados\n",
    "print(media)"
   ]
  },
  {
   "cell_type": "code",
   "execution_count": 11,
   "metadata": {
    "colab": {
     "base_uri": "https://localhost:8080/",
     "height": 34
    },
    "colab_type": "code",
    "id": "krKRZeM1ah1G",
    "outputId": "b7fa7fb6-d503-42e5-9a29-61a622c4c4fb"
   },
   "outputs": [
    {
     "name": "stdout",
     "output_type": "stream",
     "text": [
      "0.29431653406192154\n"
     ]
    }
   ],
   "source": [
    "# obtendo o desvio padrão dos valores obtidos na validação cruzada\n",
    "desvio = resultados.std()\n",
    "# visualizando os dados\n",
    "print(desvio)"
   ]
  },
  {
   "cell_type": "markdown",
   "metadata": {
    "colab_type": "text",
    "id": "91wka8Sflboa"
   },
   "source": [
    "### Alguma Dúvida? Entre em Contato Comigo:"
   ]
  },
  {
   "cell_type": "markdown",
   "metadata": {
    "colab_type": "text",
    "id": "nWl52RHMliwd"
   },
   "source": [
    "- [Me envie um e-mail](mailto:alysson.barbosa@ee.ufcg.edu.br);"
   ]
  }
 ],
 "metadata": {
  "accelerator": "GPU",
  "colab": {
   "collapsed_sections": [],
   "name": "Programa 25 - Validação Cruzaca Base Iris.ipynb",
   "provenance": [],
   "toc_visible": true
  },
  "kernelspec": {
   "display_name": "Python 3",
   "language": "python",
   "name": "python3"
  },
  "language_info": {
   "codemirror_mode": {
    "name": "ipython",
    "version": 3
   },
   "file_extension": ".py",
   "mimetype": "text/x-python",
   "name": "python",
   "nbconvert_exporter": "python",
   "pygments_lexer": "ipython3",
   "version": "3.7.4"
  }
 },
 "nbformat": 4,
 "nbformat_minor": 4
}
