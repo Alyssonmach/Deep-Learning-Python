{
  "nbformat": 4,
  "nbformat_minor": 0,
  "metadata": {
    "colab": {
      "name": "Untitled14.ipynb",
      "provenance": [],
      "collapsed_sections": []
    },
    "kernelspec": {
      "name": "python3",
      "display_name": "Python 3"
    },
    "accelerator": "GPU"
  },
  "cells": [
    {
      "cell_type": "markdown",
      "metadata": {
        "id": "eRgekVlUUo0Z",
        "colab_type": "text"
      },
      "source": [
        "# Validação Cruzada na Base de Dados Iris\n",
        "#### Usando validação cruzada na base de dados iris para obter uma acurácia mais confiável."
      ]
    },
    {
      "cell_type": "markdown",
      "metadata": {
        "id": "ypT8yxVNU3sT",
        "colab_type": "text"
      },
      "source": [
        "### Importando as Bibliotecas"
      ]
    },
    {
      "cell_type": "code",
      "metadata": {
        "id": "REOpmBFoUjk8",
        "colab_type": "code",
        "colab": {}
      },
      "source": [
        "import pandas as pd\n",
        "import numpy as np\n",
        "from sklearn.preprocessing import LabelEncoder\n",
        "from keras.models import Sequential\n",
        "from keras.layers import Dense\n",
        "from keras.utils import np_utils\n",
        "from keras.wrappers.scikit_learn import KerasClassifier\n",
        "from sklearn.model_selection import cross_val_score"
      ],
      "execution_count": null,
      "outputs": []
    },
    {
      "cell_type": "markdown",
      "metadata": {
        "id": "zl3wQjOTVWLb",
        "colab_type": "text"
      },
      "source": [
        "### Importação e Pré-processamendo dos Dados"
      ]
    },
    {
      "cell_type": "code",
      "metadata": {
        "id": "GxQTYLc_Vakb",
        "colab_type": "code",
        "colab": {}
      },
      "source": [
        "dataframe = pd.read_csv('/content/drive/My Drive/iris.csv', encoding = 'utf-8', sep = ',')\n",
        "previsores = dataframe.iloc[:, 0:4].values\n",
        "classe = dataframe.iloc[:, 4].values\n",
        "\n",
        "labelencoder = LabelEncoder()\n",
        "classe = labelencoder.fit_transform(classe)\n",
        "classe_dummy = np_utils.to_categorical(classe)\n",
        "\n"
      ],
      "execution_count": null,
      "outputs": []
    },
    {
      "cell_type": "markdown",
      "metadata": {
        "id": "yoRKzFE_VnlS",
        "colab_type": "text"
      },
      "source": [
        "### Configuração da Rede Neural"
      ]
    },
    {
      "cell_type": "code",
      "metadata": {
        "id": "HZtiJkUxVqoj",
        "colab_type": "code",
        "colab": {}
      },
      "source": [
        "def neural_network_config():\n",
        "\n",
        "  classificador = Sequential()\n",
        "\n",
        "  classificador.add(Dense(units = 4, activation = 'relu', input_dim = 4))\n",
        "  classificador.add(Dense(units = 4, activation = 'relu'))\n",
        "  classificador.add(Dense(units = 3, activation = 'softmax', input_dim = 4))\n",
        "\n",
        "  classificador.compile(optimizer = 'adam', loss = 'categorical_crossentropy', \n",
        "                      metrics = ['categorical_accuracy'])\n",
        "  \n",
        "  return classificador"
      ],
      "execution_count": null,
      "outputs": []
    },
    {
      "cell_type": "code",
      "metadata": {
        "id": "VeEUOGVJV7jG",
        "colab_type": "code",
        "colab": {}
      },
      "source": [
        "classificador = KerasClassifier(build_fn = neural_network_config, \n",
        "                                epochs = 1000, batch_size = 10)"
      ],
      "execution_count": null,
      "outputs": []
    },
    {
      "cell_type": "markdown",
      "metadata": {
        "id": "jN0wgrwdWJQd",
        "colab_type": "text"
      },
      "source": [
        "### Validação Cruzada com a Rede Neural"
      ]
    },
    {
      "cell_type": "code",
      "metadata": {
        "id": "Aoz6CVvGWNZn",
        "colab_type": "code",
        "colab": {}
      },
      "source": [
        "resultados = cross_val_score(estimator = classificador, X = previsores,\n",
        "                             y = classe, cv = 10, scoring = 'accuracy')"
      ],
      "execution_count": null,
      "outputs": []
    },
    {
      "cell_type": "code",
      "metadata": {
        "id": "vOZTHcn9agtG",
        "colab_type": "code",
        "colab": {}
      },
      "source": [
        "resultados"
      ],
      "execution_count": null,
      "outputs": []
    },
    {
      "cell_type": "code",
      "metadata": {
        "id": "Su3evkoAabiJ",
        "colab_type": "code",
        "colab": {}
      },
      "source": [
        "media = resultados.mean()\n",
        "print(media)"
      ],
      "execution_count": null,
      "outputs": []
    },
    {
      "cell_type": "code",
      "metadata": {
        "id": "krKRZeM1ah1G",
        "colab_type": "code",
        "colab": {}
      },
      "source": [
        "desvio = resultados.std()\n",
        "print(desvio)"
      ],
      "execution_count": null,
      "outputs": []
    },
    {
      "cell_type": "markdown",
      "metadata": {
        "id": "91wka8Sflboa",
        "colab_type": "text"
      },
      "source": [
        "### Alguma Dúvida? Entre em Contato Comigo:"
      ]
    },
    {
      "cell_type": "markdown",
      "metadata": {
        "id": "nWl52RHMliwd",
        "colab_type": "text"
      },
      "source": [
        "- [Me envie um e-mail](mailto:alysson.barbosa@ee.ufcg.edu.br);"
      ]
    }
  ]
}