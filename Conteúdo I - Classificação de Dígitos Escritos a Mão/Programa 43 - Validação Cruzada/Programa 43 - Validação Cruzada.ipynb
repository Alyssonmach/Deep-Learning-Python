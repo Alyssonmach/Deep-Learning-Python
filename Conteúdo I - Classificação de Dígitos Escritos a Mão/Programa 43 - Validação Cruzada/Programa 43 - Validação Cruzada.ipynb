{
  "nbformat": 4,
  "nbformat_minor": 0,
  "metadata": {
    "kernelspec": {
      "display_name": "Python 3",
      "language": "python",
      "name": "python3"
    },
    "language_info": {
      "codemirror_mode": {
        "name": "ipython",
        "version": 3
      },
      "file_extension": ".py",
      "mimetype": "text/x-python",
      "name": "python",
      "nbconvert_exporter": "python",
      "pygments_lexer": "ipython3",
      "version": "3.7.4"
    },
    "colab": {
      "name": "Programa 43 - Validação Cruzada.ipynb",
      "provenance": []
    },
    "accelerator": "TPU"
  },
  "cells": [
    {
      "cell_type": "markdown",
      "metadata": {
        "id": "MBHiOdtHeUmn",
        "colab_type": "text"
      },
      "source": [
        "# Validação Cruzada\n",
        "#### Aplicando a validação cruzada na base de dados de dígitos escrito a mão."
      ]
    },
    {
      "cell_type": "markdown",
      "metadata": {
        "id": "cVydnI2veUmr",
        "colab_type": "text"
      },
      "source": [
        "### Importação das Bases de Dados"
      ]
    },
    {
      "cell_type": "code",
      "metadata": {
        "id": "FMS3Y5Q7eUmt",
        "colab_type": "code",
        "colab": {}
      },
      "source": [
        "# importando da biblioteca keras do python\n",
        "from keras.datasets import mnist\n",
        "from keras.models import Sequential\n",
        "from keras.layers import Dense, Flatten, Conv2D, MaxPooling2D\n",
        "from keras.utils import np_utils\n",
        "\n",
        "# importando a biblioteca numpy do python\n",
        "import numpy as np\n",
        "\n",
        "# importando da biblioteca sklearn\n",
        "from sklearn.model_selection import StratifiedKFold"
      ],
      "execution_count": 15,
      "outputs": []
    },
    {
      "cell_type": "markdown",
      "metadata": {
        "id": "o3Ce7JCyeUm4",
        "colab_type": "text"
      },
      "source": [
        "### Semente de Geração Randômica"
      ]
    },
    {
      "cell_type": "code",
      "metadata": {
        "id": "ya9HuWejeUm7",
        "colab_type": "code",
        "colab": {}
      },
      "source": [
        "# definindo um número randômico\n",
        "seed = 5\n",
        "# definindo uma semente de geração randômica\n",
        "np.random.seed(seed)"
      ],
      "execution_count": 16,
      "outputs": []
    },
    {
      "cell_type": "markdown",
      "metadata": {
        "id": "Ej1q9Qm-eUnH",
        "colab_type": "text"
      },
      "source": [
        "### Carregamento da Base de Dados"
      ]
    },
    {
      "cell_type": "code",
      "metadata": {
        "id": "JFVev2RteUnJ",
        "colab_type": "code",
        "colab": {}
      },
      "source": [
        "# separando os atributos previsores dos atributos meta e definindo uma \n",
        "# base de dados de treinamento e outra de teste\n",
        "(X, y), (X_teste, y_teste) = mnist.load_data()"
      ],
      "execution_count": 17,
      "outputs": []
    },
    {
      "cell_type": "markdown",
      "metadata": {
        "id": "NzIwF8JseUnS",
        "colab_type": "text"
      },
      "source": [
        "### Pré-processamento dos Dados"
      ]
    },
    {
      "cell_type": "code",
      "metadata": {
        "id": "geNirW5xeUnT",
        "colab_type": "code",
        "colab": {
          "base_uri": "https://localhost:8080/",
          "height": 34
        },
        "outputId": "32bd7365-2690-4edc-9783-b8f53e1ae678"
      },
      "source": [
        "# visualizando a dimensão dos atributos previsores\n",
        "print(X.shape)"
      ],
      "execution_count": 18,
      "outputs": [
        {
          "output_type": "stream",
          "text": [
            "(60000, 28, 28)\n"
          ],
          "name": "stdout"
        }
      ]
    },
    {
      "cell_type": "code",
      "metadata": {
        "id": "NcrRJ6OWeUnd",
        "colab_type": "code",
        "colab": {}
      },
      "source": [
        "# organizando a imagem com somente uma camada, dado que as cores\n",
        "# não influenciarão no treinamento da rede neural\n",
        "previsores = X.reshape(X.shape[0], 28, 28, 1)\n",
        "\n",
        "# definindo os tipos de dados da matriz como um número flutuante\n",
        "# de 32 bits\n",
        "previsores = previsores.astype('float32')\n",
        "\n",
        "# normalizando a base de dados para melhor processamento\n",
        "previsores /= 255\n",
        "\n",
        "# definindo os atributos meta como variáveis do tipo meta\n",
        "classe = np_utils.to_categorical(y, 10)\n",
        "# como existem 10 dígitos diferentes, criamos uma variável\n",
        "# com 10 casas numéricas"
      ],
      "execution_count": 19,
      "outputs": []
    },
    {
      "cell_type": "markdown",
      "metadata": {
        "id": "vmCm5zmyeUno",
        "colab_type": "text"
      },
      "source": [
        "### Validação Cruzada na Base de Dados"
      ]
    },
    {
      "cell_type": "code",
      "metadata": {
        "id": "Z-aB_oRIeUnq",
        "colab_type": "code",
        "colab": {}
      },
      "source": [
        "# configurando o objeto para realizar a validação cruzada\n",
        "kfold = StratifiedKFold(n_splits = 5, shuffle = True, \n",
        "                       random_state = seed)\n",
        "\n",
        "# criando uma lista vazia para armazenar os valores da \n",
        "# validação cruzada\n",
        "resultados = []"
      ],
      "execution_count": 20,
      "outputs": []
    },
    {
      "cell_type": "markdown",
      "metadata": {
        "id": "vt4-rwyaeUn1",
        "colab_type": "text"
      },
      "source": [
        "### Estruturando a Rede Neural"
      ]
    },
    {
      "cell_type": "code",
      "metadata": {
        "id": "0XP0m_UoeUn3",
        "colab_type": "code",
        "colab": {
          "base_uri": "https://localhost:8080/",
          "height": 952
        },
        "outputId": "d6b32aa1-cc69-4c5e-dcd9-94b6e186a4ed"
      },
      "source": [
        "# interando os dados para relização da validação cruzada\n",
        "for indice_treinamento, indice_teste in kfold.split(previsores, np.zeros(shape = (classe.shape[0], 1))):\n",
        "    \n",
        "    # criando o objeto classificador\n",
        "    classificador = Sequential()\n",
        "    # adicionando a primeira camada de convolução\n",
        "    classificador.add(Conv2D(32, (3, 3), input_shape = (28, 28, 1), activation = 'relu'))\n",
        "    # adicionando a camada de pooling\n",
        "    classificador.add(MaxPooling2D(pool_size = (2, 2)))\n",
        "    # adicionando a camada de Flatten\n",
        "    classificador.add(Flatten())\n",
        "    # adicionando uma camada oculta na rede neural\n",
        "    classificador.add(Dense(units = 128, activation = 'relu'))\n",
        "    # adicionando uma camada de saída a rede neural\n",
        "    classificador.add(Dense(units = 10, activation = 'softmax'))\n",
        "    \n",
        "    \n",
        "    # definindo mais alguns parâmetros da rede neural\n",
        "    classificador.compile(loss = 'categorical_crossentropy', optimizer = 'adam', metrics = ['accuracy'])\n",
        "    \n",
        "    # realizando o treinamento na rede neural\n",
        "    classificador.fit(previsores[indice_treinamento], classe[indice_treinamento], batch_size = 128, \n",
        "                     epochs = 5)\n",
        "    \n",
        "    # obtendo a precisão nos acertos dos dados pela rede neural\n",
        "    precisao = classificador.evaluate(previsores[indice_teste], classe[indice_teste])\n",
        "    \n",
        "    # adicionando os resultados da validação cruzada em uma lista\n",
        "    resultados.append(precisao[1])"
      ],
      "execution_count": 21,
      "outputs": [
        {
          "output_type": "stream",
          "text": [
            "Epoch 1/5\n",
            "375/375 [==============================] - 20s 53ms/step - loss: 0.2453 - accuracy: 0.9298\n",
            "Epoch 2/5\n",
            "375/375 [==============================] - 20s 52ms/step - loss: 0.0781 - accuracy: 0.9771\n",
            "Epoch 3/5\n",
            "375/375 [==============================] - 20s 53ms/step - loss: 0.0522 - accuracy: 0.9847\n",
            "Epoch 4/5\n",
            "375/375 [==============================] - 20s 52ms/step - loss: 0.0379 - accuracy: 0.9888\n",
            "Epoch 5/5\n",
            "375/375 [==============================] - 19s 51ms/step - loss: 0.0280 - accuracy: 0.9917\n",
            "375/375 [==============================] - 2s 6ms/step - loss: 0.0584 - accuracy: 0.9829\n",
            "Epoch 1/5\n",
            "375/375 [==============================] - 20s 52ms/step - loss: 0.2484 - accuracy: 0.9287\n",
            "Epoch 2/5\n",
            "375/375 [==============================] - 20s 53ms/step - loss: 0.0785 - accuracy: 0.9774\n",
            "Epoch 3/5\n",
            "375/375 [==============================] - 20s 52ms/step - loss: 0.0508 - accuracy: 0.9849\n",
            "Epoch 4/5\n",
            "375/375 [==============================] - 20s 53ms/step - loss: 0.0386 - accuracy: 0.9885\n",
            "Epoch 5/5\n",
            "375/375 [==============================] - 20s 53ms/step - loss: 0.0273 - accuracy: 0.9919\n",
            "375/375 [==============================] - 2s 7ms/step - loss: 0.0520 - accuracy: 0.9841\n",
            "Epoch 1/5\n",
            "375/375 [==============================] - 20s 53ms/step - loss: 0.2564 - accuracy: 0.9256\n",
            "Epoch 2/5\n",
            "375/375 [==============================] - 20s 53ms/step - loss: 0.0813 - accuracy: 0.9756\n",
            "Epoch 3/5\n",
            "375/375 [==============================] - 20s 53ms/step - loss: 0.0527 - accuracy: 0.9846\n",
            "Epoch 4/5\n",
            "375/375 [==============================] - 20s 53ms/step - loss: 0.0395 - accuracy: 0.9881\n",
            "Epoch 5/5\n",
            "375/375 [==============================] - 20s 53ms/step - loss: 0.0299 - accuracy: 0.9908\n",
            "375/375 [==============================] - 2s 6ms/step - loss: 0.0490 - accuracy: 0.9852\n",
            "Epoch 1/5\n",
            "375/375 [==============================] - 20s 53ms/step - loss: 0.2521 - accuracy: 0.9290\n",
            "Epoch 2/5\n",
            "375/375 [==============================] - 20s 52ms/step - loss: 0.0785 - accuracy: 0.9769\n",
            "Epoch 3/5\n",
            "375/375 [==============================] - 20s 53ms/step - loss: 0.0525 - accuracy: 0.9842\n",
            "Epoch 4/5\n",
            "375/375 [==============================] - 20s 53ms/step - loss: 0.0377 - accuracy: 0.9888\n",
            "Epoch 5/5\n",
            "375/375 [==============================] - 20s 52ms/step - loss: 0.0277 - accuracy: 0.9920\n",
            "375/375 [==============================] - 2s 6ms/step - loss: 0.0544 - accuracy: 0.9845\n",
            "Epoch 1/5\n",
            "375/375 [==============================] - 20s 53ms/step - loss: 0.2468 - accuracy: 0.9295\n",
            "Epoch 2/5\n",
            "375/375 [==============================] - 20s 53ms/step - loss: 0.0782 - accuracy: 0.9769\n",
            "Epoch 3/5\n",
            "375/375 [==============================] - 20s 52ms/step - loss: 0.0525 - accuracy: 0.9842\n",
            "Epoch 4/5\n",
            "375/375 [==============================] - 20s 53ms/step - loss: 0.0376 - accuracy: 0.9885\n",
            "Epoch 5/5\n",
            "375/375 [==============================] - 20s 53ms/step - loss: 0.0287 - accuracy: 0.9912\n",
            "375/375 [==============================] - 2s 6ms/step - loss: 0.0579 - accuracy: 0.9835\n"
          ],
          "name": "stdout"
        }
      ]
    },
    {
      "cell_type": "markdown",
      "metadata": {
        "id": "TueRZttteUoA",
        "colab_type": "text"
      },
      "source": [
        "### Obtendo a Acurácia da Rede Neural"
      ]
    },
    {
      "cell_type": "code",
      "metadata": {
        "id": "9wHMJ_FteUoC",
        "colab_type": "code",
        "colab": {
          "base_uri": "https://localhost:8080/",
          "height": 34
        },
        "outputId": "1c0f5149-24da-499e-ac02-1e78a7274e30"
      },
      "source": [
        "# visualizando a precisão da rede neural\n",
        "print(precisao)"
      ],
      "execution_count": 22,
      "outputs": [
        {
          "output_type": "stream",
          "text": [
            "[0.057879772037267685, 0.9835000038146973]\n"
          ],
          "name": "stdout"
        }
      ]
    },
    {
      "cell_type": "code",
      "metadata": {
        "id": "B72JP6JNeUoJ",
        "colab_type": "code",
        "colab": {
          "base_uri": "https://localhost:8080/",
          "height": 34
        },
        "outputId": "567ac461-e0c7-40be-f1c0-3abdf08eb223"
      },
      "source": [
        "# visualizando a lista de resultados\n",
        "print(resultados)"
      ],
      "execution_count": 24,
      "outputs": [
        {
          "output_type": "stream",
          "text": [
            "[0.9829166531562805, 0.984083354473114, 0.9851666688919067, 0.984499990940094, 0.9835000038146973]\n"
          ],
          "name": "stdout"
        }
      ]
    },
    {
      "cell_type": "code",
      "metadata": {
        "id": "uE2eul-8eUoQ",
        "colab_type": "code",
        "colab": {
          "base_uri": "https://localhost:8080/",
          "height": 34
        },
        "outputId": "39d3a061-3833-4512-afd1-dd4ea173bb0d"
      },
      "source": [
        "# obtendo a média da lista de resultados\n",
        "media = sum(resultados) / len(resultados)\n",
        "\n",
        "# visualizando a média dos resultados obtidos em validação cruzada\n",
        "print(media)"
      ],
      "execution_count": 25,
      "outputs": [
        {
          "output_type": "stream",
          "text": [
            "0.9840333342552186\n"
          ],
          "name": "stdout"
        }
      ]
    },
    {
      "cell_type": "markdown",
      "metadata": {
        "id": "ghjXM1PLeUoZ",
        "colab_type": "text"
      },
      "source": [
        "### Alguma Dúvida? Entre em Contato Comigo:"
      ]
    },
    {
      "cell_type": "markdown",
      "metadata": {
        "id": "bUkn9ssseUoa",
        "colab_type": "text"
      },
      "source": [
        "- [Me envie um e-mail](mailto:alysson.barbosa@ee.ufcg.edu.br);"
      ]
    }
  ]
}